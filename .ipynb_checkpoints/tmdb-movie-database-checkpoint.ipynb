{
 "cells": [
  {
   "cell_type": "markdown",
   "metadata": {},
   "source": [
    "# TMDB Movie Dataset\n",
    "\n",
    "## Table of Contents\n",
    "<ul>\n",
    "<li><a href=\"#intro\">Introduction</a></li>\n",
    "<li><a href=\"#wrangling\">Data Wrangling</a></li>\n",
    "<li><a href=\"#eda\">Exploratory Data Analysis</a></li>\n",
    "<li><a href=\"#conclusions\">Conclusions</a></li>\n",
    "</ul>"
   ]
  },
  {
   "cell_type": "markdown",
   "metadata": {},
   "source": [
    "<a id='intro'></a>\n",
    "## Introduction\n",
    "This dataset consists of over 10,000 rows of movie data, ranging from movie budgets, to revenue, to movie rating.\n",
    "\n",
    "### Questions:\n",
    "1. What years were the most successful in terms of revenue?\n",
    "2. What movie genre has the highest average rating?\n",
    "3. What directors had the highest average revenue?\n",
    "4. What were the most successful movies, by revenue, popularity and rating?\n"
   ]
  },
  {
   "cell_type": "code",
   "execution_count": 1,
   "metadata": {},
   "outputs": [],
   "source": [
    "# Import necessary packages\n",
    "import pandas as pd\n",
    "import numpy as np\n",
    "import matplotlib.pyplot as plt\n",
    "import seaborn as sns\n",
    "%matplotlib inline"
   ]
  },
  {
   "cell_type": "markdown",
   "metadata": {},
   "source": [
    "<a id='wrangling'></a>\n",
    "## Data Wrangling"
   ]
  },
  {
   "cell_type": "markdown",
   "metadata": {},
   "source": [
    "### General Properties\n",
    "First I will load in the dataset and observe the first few rows and shape of the data to get a sense of what data I will be analyzing."
   ]
  },
  {
   "cell_type": "code",
   "execution_count": 2,
   "metadata": {},
   "outputs": [
    {
     "data": {
      "text/html": [
       "<div>\n",
       "<style scoped>\n",
       "    .dataframe tbody tr th:only-of-type {\n",
       "        vertical-align: middle;\n",
       "    }\n",
       "\n",
       "    .dataframe tbody tr th {\n",
       "        vertical-align: top;\n",
       "    }\n",
       "\n",
       "    .dataframe thead th {\n",
       "        text-align: right;\n",
       "    }\n",
       "</style>\n",
       "<table border=\"1\" class=\"dataframe\">\n",
       "  <thead>\n",
       "    <tr style=\"text-align: right;\">\n",
       "      <th></th>\n",
       "      <th>id</th>\n",
       "      <th>imdb_id</th>\n",
       "      <th>popularity</th>\n",
       "      <th>budget</th>\n",
       "      <th>revenue</th>\n",
       "      <th>original_title</th>\n",
       "      <th>cast</th>\n",
       "      <th>homepage</th>\n",
       "      <th>director</th>\n",
       "      <th>tagline</th>\n",
       "      <th>...</th>\n",
       "      <th>overview</th>\n",
       "      <th>runtime</th>\n",
       "      <th>genres</th>\n",
       "      <th>production_companies</th>\n",
       "      <th>release_date</th>\n",
       "      <th>vote_count</th>\n",
       "      <th>vote_average</th>\n",
       "      <th>release_year</th>\n",
       "      <th>budget_adj</th>\n",
       "      <th>revenue_adj</th>\n",
       "    </tr>\n",
       "  </thead>\n",
       "  <tbody>\n",
       "    <tr>\n",
       "      <th>0</th>\n",
       "      <td>135397</td>\n",
       "      <td>tt0369610</td>\n",
       "      <td>32.985763</td>\n",
       "      <td>150000000</td>\n",
       "      <td>1513528810</td>\n",
       "      <td>Jurassic World</td>\n",
       "      <td>Chris Pratt|Bryce Dallas Howard|Irrfan Khan|Vi...</td>\n",
       "      <td>http://www.jurassicworld.com/</td>\n",
       "      <td>Colin Trevorrow</td>\n",
       "      <td>The park is open.</td>\n",
       "      <td>...</td>\n",
       "      <td>Twenty-two years after the events of Jurassic ...</td>\n",
       "      <td>124</td>\n",
       "      <td>Action|Adventure|Science Fiction|Thriller</td>\n",
       "      <td>Universal Studios|Amblin Entertainment|Legenda...</td>\n",
       "      <td>6/9/15</td>\n",
       "      <td>5562</td>\n",
       "      <td>6.5</td>\n",
       "      <td>2015</td>\n",
       "      <td>1.379999e+08</td>\n",
       "      <td>1.392446e+09</td>\n",
       "    </tr>\n",
       "    <tr>\n",
       "      <th>1</th>\n",
       "      <td>76341</td>\n",
       "      <td>tt1392190</td>\n",
       "      <td>28.419936</td>\n",
       "      <td>150000000</td>\n",
       "      <td>378436354</td>\n",
       "      <td>Mad Max: Fury Road</td>\n",
       "      <td>Tom Hardy|Charlize Theron|Hugh Keays-Byrne|Nic...</td>\n",
       "      <td>http://www.madmaxmovie.com/</td>\n",
       "      <td>George Miller</td>\n",
       "      <td>What a Lovely Day.</td>\n",
       "      <td>...</td>\n",
       "      <td>An apocalyptic story set in the furthest reach...</td>\n",
       "      <td>120</td>\n",
       "      <td>Action|Adventure|Science Fiction|Thriller</td>\n",
       "      <td>Village Roadshow Pictures|Kennedy Miller Produ...</td>\n",
       "      <td>5/13/15</td>\n",
       "      <td>6185</td>\n",
       "      <td>7.1</td>\n",
       "      <td>2015</td>\n",
       "      <td>1.379999e+08</td>\n",
       "      <td>3.481613e+08</td>\n",
       "    </tr>\n",
       "    <tr>\n",
       "      <th>2</th>\n",
       "      <td>262500</td>\n",
       "      <td>tt2908446</td>\n",
       "      <td>13.112507</td>\n",
       "      <td>110000000</td>\n",
       "      <td>295238201</td>\n",
       "      <td>Insurgent</td>\n",
       "      <td>Shailene Woodley|Theo James|Kate Winslet|Ansel...</td>\n",
       "      <td>http://www.thedivergentseries.movie/#insurgent</td>\n",
       "      <td>Robert Schwentke</td>\n",
       "      <td>One Choice Can Destroy You</td>\n",
       "      <td>...</td>\n",
       "      <td>Beatrice Prior must confront her inner demons ...</td>\n",
       "      <td>119</td>\n",
       "      <td>Adventure|Science Fiction|Thriller</td>\n",
       "      <td>Summit Entertainment|Mandeville Films|Red Wago...</td>\n",
       "      <td>3/18/15</td>\n",
       "      <td>2480</td>\n",
       "      <td>6.3</td>\n",
       "      <td>2015</td>\n",
       "      <td>1.012000e+08</td>\n",
       "      <td>2.716190e+08</td>\n",
       "    </tr>\n",
       "    <tr>\n",
       "      <th>3</th>\n",
       "      <td>140607</td>\n",
       "      <td>tt2488496</td>\n",
       "      <td>11.173104</td>\n",
       "      <td>200000000</td>\n",
       "      <td>2068178225</td>\n",
       "      <td>Star Wars: The Force Awakens</td>\n",
       "      <td>Harrison Ford|Mark Hamill|Carrie Fisher|Adam D...</td>\n",
       "      <td>http://www.starwars.com/films/star-wars-episod...</td>\n",
       "      <td>J.J. Abrams</td>\n",
       "      <td>Every generation has a story.</td>\n",
       "      <td>...</td>\n",
       "      <td>Thirty years after defeating the Galactic Empi...</td>\n",
       "      <td>136</td>\n",
       "      <td>Action|Adventure|Science Fiction|Fantasy</td>\n",
       "      <td>Lucasfilm|Truenorth Productions|Bad Robot</td>\n",
       "      <td>12/15/15</td>\n",
       "      <td>5292</td>\n",
       "      <td>7.5</td>\n",
       "      <td>2015</td>\n",
       "      <td>1.839999e+08</td>\n",
       "      <td>1.902723e+09</td>\n",
       "    </tr>\n",
       "    <tr>\n",
       "      <th>4</th>\n",
       "      <td>168259</td>\n",
       "      <td>tt2820852</td>\n",
       "      <td>9.335014</td>\n",
       "      <td>190000000</td>\n",
       "      <td>1506249360</td>\n",
       "      <td>Furious 7</td>\n",
       "      <td>Vin Diesel|Paul Walker|Jason Statham|Michelle ...</td>\n",
       "      <td>http://www.furious7.com/</td>\n",
       "      <td>James Wan</td>\n",
       "      <td>Vengeance Hits Home</td>\n",
       "      <td>...</td>\n",
       "      <td>Deckard Shaw seeks revenge against Dominic Tor...</td>\n",
       "      <td>137</td>\n",
       "      <td>Action|Crime|Thriller</td>\n",
       "      <td>Universal Pictures|Original Film|Media Rights ...</td>\n",
       "      <td>4/1/15</td>\n",
       "      <td>2947</td>\n",
       "      <td>7.3</td>\n",
       "      <td>2015</td>\n",
       "      <td>1.747999e+08</td>\n",
       "      <td>1.385749e+09</td>\n",
       "    </tr>\n",
       "  </tbody>\n",
       "</table>\n",
       "<p>5 rows × 21 columns</p>\n",
       "</div>"
      ],
      "text/plain": [
       "       id    imdb_id  popularity     budget     revenue  \\\n",
       "0  135397  tt0369610   32.985763  150000000  1513528810   \n",
       "1   76341  tt1392190   28.419936  150000000   378436354   \n",
       "2  262500  tt2908446   13.112507  110000000   295238201   \n",
       "3  140607  tt2488496   11.173104  200000000  2068178225   \n",
       "4  168259  tt2820852    9.335014  190000000  1506249360   \n",
       "\n",
       "                 original_title  \\\n",
       "0                Jurassic World   \n",
       "1            Mad Max: Fury Road   \n",
       "2                     Insurgent   \n",
       "3  Star Wars: The Force Awakens   \n",
       "4                     Furious 7   \n",
       "\n",
       "                                                cast  \\\n",
       "0  Chris Pratt|Bryce Dallas Howard|Irrfan Khan|Vi...   \n",
       "1  Tom Hardy|Charlize Theron|Hugh Keays-Byrne|Nic...   \n",
       "2  Shailene Woodley|Theo James|Kate Winslet|Ansel...   \n",
       "3  Harrison Ford|Mark Hamill|Carrie Fisher|Adam D...   \n",
       "4  Vin Diesel|Paul Walker|Jason Statham|Michelle ...   \n",
       "\n",
       "                                            homepage          director  \\\n",
       "0                      http://www.jurassicworld.com/   Colin Trevorrow   \n",
       "1                        http://www.madmaxmovie.com/     George Miller   \n",
       "2     http://www.thedivergentseries.movie/#insurgent  Robert Schwentke   \n",
       "3  http://www.starwars.com/films/star-wars-episod...       J.J. Abrams   \n",
       "4                           http://www.furious7.com/         James Wan   \n",
       "\n",
       "                         tagline  ...  \\\n",
       "0              The park is open.  ...   \n",
       "1             What a Lovely Day.  ...   \n",
       "2     One Choice Can Destroy You  ...   \n",
       "3  Every generation has a story.  ...   \n",
       "4            Vengeance Hits Home  ...   \n",
       "\n",
       "                                            overview runtime  \\\n",
       "0  Twenty-two years after the events of Jurassic ...     124   \n",
       "1  An apocalyptic story set in the furthest reach...     120   \n",
       "2  Beatrice Prior must confront her inner demons ...     119   \n",
       "3  Thirty years after defeating the Galactic Empi...     136   \n",
       "4  Deckard Shaw seeks revenge against Dominic Tor...     137   \n",
       "\n",
       "                                      genres  \\\n",
       "0  Action|Adventure|Science Fiction|Thriller   \n",
       "1  Action|Adventure|Science Fiction|Thriller   \n",
       "2         Adventure|Science Fiction|Thriller   \n",
       "3   Action|Adventure|Science Fiction|Fantasy   \n",
       "4                      Action|Crime|Thriller   \n",
       "\n",
       "                                production_companies release_date vote_count  \\\n",
       "0  Universal Studios|Amblin Entertainment|Legenda...       6/9/15       5562   \n",
       "1  Village Roadshow Pictures|Kennedy Miller Produ...      5/13/15       6185   \n",
       "2  Summit Entertainment|Mandeville Films|Red Wago...      3/18/15       2480   \n",
       "3          Lucasfilm|Truenorth Productions|Bad Robot     12/15/15       5292   \n",
       "4  Universal Pictures|Original Film|Media Rights ...       4/1/15       2947   \n",
       "\n",
       "   vote_average  release_year    budget_adj   revenue_adj  \n",
       "0           6.5          2015  1.379999e+08  1.392446e+09  \n",
       "1           7.1          2015  1.379999e+08  3.481613e+08  \n",
       "2           6.3          2015  1.012000e+08  2.716190e+08  \n",
       "3           7.5          2015  1.839999e+08  1.902723e+09  \n",
       "4           7.3          2015  1.747999e+08  1.385749e+09  \n",
       "\n",
       "[5 rows x 21 columns]"
      ]
     },
     "execution_count": 2,
     "metadata": {},
     "output_type": "execute_result"
    }
   ],
   "source": [
    "# Read in the dataset\n",
    "df = pd.read_csv('tmdb-movies.csv')\n",
    "df.head()"
   ]
  },
  {
   "cell_type": "code",
   "execution_count": 3,
   "metadata": {},
   "outputs": [
    {
     "data": {
      "text/plain": [
       "(10866, 21)"
      ]
     },
     "execution_count": 3,
     "metadata": {},
     "output_type": "execute_result"
    }
   ],
   "source": [
    "df.shape"
   ]
  },
  {
   "cell_type": "markdown",
   "metadata": {},
   "source": [
    "The dataset contains 10,866 rows (or 10,866 movies) and 21 columns. The columns contain categorical (i.e. genre, director) and quantitative (i.e. budget, revenue) data."
   ]
  },
  {
   "cell_type": "markdown",
   "metadata": {},
   "source": [
    "### Data Cleaning\n",
    "I will explore the dataset further to see if there is any cleaning that needs to be done to the data before performing any analysis. \n",
    "\n",
    "__**Summary:**__\n",
    "1. Convert 'release_date' from a string to a datetime object.\n",
    "2. Remove duplicate rows that may skew measures of center.\n",
    "3. Split the 'cast', 'keywords', 'genres', and 'production_companies' columns by the '|' separator to convert row entries into lists. This will make iterating over these elements to perform calculations for individual cast members, genres, etc. rather than the entire contents of the cell.\n",
    "4. Drop the 'id', 'imdb_id', 'homepage', 'tagline', 'overview', 'release_year' columns from the data set, to cut the dataframe to only the categorical and quantitative data I'll need for my analysis.\n",
    "5. Drop the 'budget' and 'revenue' columns and rename the 'budget_adj' and 'revenue_adj' columns in order to analyze the most accurate, up-to-date data of budget and revenue for each film.\n",
    "5. Drop null rows to ensure the highest fidelity of analysis.\n",
    "6. Drop rows where budget or revenue are zero to avoid skews of the data. Rows where revenue and budget are zero are assumed to be errors."
   ]
  },
  {
   "cell_type": "code",
   "execution_count": 4,
   "metadata": {},
   "outputs": [
    {
     "data": {
      "text/plain": [
       "id                        int64\n",
       "imdb_id                  object\n",
       "popularity              float64\n",
       "budget                    int64\n",
       "revenue                   int64\n",
       "original_title           object\n",
       "cast                     object\n",
       "homepage                 object\n",
       "director                 object\n",
       "tagline                  object\n",
       "keywords                 object\n",
       "overview                 object\n",
       "runtime                   int64\n",
       "genres                   object\n",
       "production_companies     object\n",
       "release_date             object\n",
       "vote_count                int64\n",
       "vote_average            float64\n",
       "release_year              int64\n",
       "budget_adj              float64\n",
       "revenue_adj             float64\n",
       "dtype: object"
      ]
     },
     "execution_count": 4,
     "metadata": {},
     "output_type": "execute_result"
    }
   ],
   "source": [
    "df.dtypes"
   ]
  },
  {
   "cell_type": "markdown",
   "metadata": {},
   "source": [
    "The \"release_date\" column has been read as a string and needs to be converted to datetime. The \"release_year\" column has been read in as an int and not a datetime object, however this should be fine for this analysis."
   ]
  },
  {
   "cell_type": "code",
   "execution_count": 5,
   "metadata": {},
   "outputs": [
    {
     "data": {
      "text/plain": [
       "id                               int64\n",
       "imdb_id                         object\n",
       "popularity                     float64\n",
       "budget                           int64\n",
       "revenue                          int64\n",
       "original_title                  object\n",
       "cast                            object\n",
       "homepage                        object\n",
       "director                        object\n",
       "tagline                         object\n",
       "keywords                        object\n",
       "overview                        object\n",
       "runtime                          int64\n",
       "genres                          object\n",
       "production_companies            object\n",
       "release_date            datetime64[ns]\n",
       "vote_count                       int64\n",
       "vote_average                   float64\n",
       "release_year                     int64\n",
       "budget_adj                     float64\n",
       "revenue_adj                    float64\n",
       "dtype: object"
      ]
     },
     "execution_count": 5,
     "metadata": {},
     "output_type": "execute_result"
    }
   ],
   "source": [
    "# Convert the date column to a datetime object\n",
    "df['release_date'] = pd.to_datetime(df['release_date'])\n",
    "df.dtypes"
   ]
  },
  {
   "cell_type": "markdown",
   "metadata": {},
   "source": [
    "Next I'm going to check if there are any duplicate rows and remove them from the dataset."
   ]
  },
  {
   "cell_type": "code",
   "execution_count": 6,
   "metadata": {},
   "outputs": [
    {
     "data": {
      "text/plain": [
       "1"
      ]
     },
     "execution_count": 6,
     "metadata": {},
     "output_type": "execute_result"
    }
   ],
   "source": [
    "# Count the number of duplicate rows\n",
    "df.duplicated().sum()"
   ]
  },
  {
   "cell_type": "code",
   "execution_count": 7,
   "metadata": {},
   "outputs": [
    {
     "data": {
      "text/plain": [
       "(10865, 21)"
      ]
     },
     "execution_count": 7,
     "metadata": {},
     "output_type": "execute_result"
    }
   ],
   "source": [
    "# Drop duplicate rows\n",
    "df.drop_duplicates(inplace=True)\n",
    "df.shape"
   ]
  },
  {
   "cell_type": "code",
   "execution_count": 8,
   "metadata": {},
   "outputs": [
    {
     "data": {
      "text/html": [
       "<div>\n",
       "<style scoped>\n",
       "    .dataframe tbody tr th:only-of-type {\n",
       "        vertical-align: middle;\n",
       "    }\n",
       "\n",
       "    .dataframe tbody tr th {\n",
       "        vertical-align: top;\n",
       "    }\n",
       "\n",
       "    .dataframe thead th {\n",
       "        text-align: right;\n",
       "    }\n",
       "</style>\n",
       "<table border=\"1\" class=\"dataframe\">\n",
       "  <thead>\n",
       "    <tr style=\"text-align: right;\">\n",
       "      <th></th>\n",
       "      <th>id</th>\n",
       "      <th>imdb_id</th>\n",
       "      <th>popularity</th>\n",
       "      <th>budget</th>\n",
       "      <th>revenue</th>\n",
       "      <th>original_title</th>\n",
       "      <th>cast</th>\n",
       "      <th>homepage</th>\n",
       "      <th>director</th>\n",
       "      <th>tagline</th>\n",
       "      <th>...</th>\n",
       "      <th>overview</th>\n",
       "      <th>runtime</th>\n",
       "      <th>genres</th>\n",
       "      <th>production_companies</th>\n",
       "      <th>release_date</th>\n",
       "      <th>vote_count</th>\n",
       "      <th>vote_average</th>\n",
       "      <th>release_year</th>\n",
       "      <th>budget_adj</th>\n",
       "      <th>revenue_adj</th>\n",
       "    </tr>\n",
       "  </thead>\n",
       "  <tbody>\n",
       "    <tr>\n",
       "      <th>0</th>\n",
       "      <td>135397</td>\n",
       "      <td>tt0369610</td>\n",
       "      <td>32.985763</td>\n",
       "      <td>150000000</td>\n",
       "      <td>1513528810</td>\n",
       "      <td>Jurassic World</td>\n",
       "      <td>Chris Pratt|Bryce Dallas Howard|Irrfan Khan|Vi...</td>\n",
       "      <td>http://www.jurassicworld.com/</td>\n",
       "      <td>Colin Trevorrow</td>\n",
       "      <td>The park is open.</td>\n",
       "      <td>...</td>\n",
       "      <td>Twenty-two years after the events of Jurassic ...</td>\n",
       "      <td>124</td>\n",
       "      <td>Action|Adventure|Science Fiction|Thriller</td>\n",
       "      <td>Universal Studios|Amblin Entertainment|Legenda...</td>\n",
       "      <td>2015-06-09</td>\n",
       "      <td>5562</td>\n",
       "      <td>6.5</td>\n",
       "      <td>2015</td>\n",
       "      <td>1.379999e+08</td>\n",
       "      <td>1.392446e+09</td>\n",
       "    </tr>\n",
       "  </tbody>\n",
       "</table>\n",
       "<p>1 rows × 21 columns</p>\n",
       "</div>"
      ],
      "text/plain": [
       "       id    imdb_id  popularity     budget     revenue  original_title  \\\n",
       "0  135397  tt0369610   32.985763  150000000  1513528810  Jurassic World   \n",
       "\n",
       "                                                cast  \\\n",
       "0  Chris Pratt|Bryce Dallas Howard|Irrfan Khan|Vi...   \n",
       "\n",
       "                        homepage         director            tagline  ...  \\\n",
       "0  http://www.jurassicworld.com/  Colin Trevorrow  The park is open.  ...   \n",
       "\n",
       "                                            overview runtime  \\\n",
       "0  Twenty-two years after the events of Jurassic ...     124   \n",
       "\n",
       "                                      genres  \\\n",
       "0  Action|Adventure|Science Fiction|Thriller   \n",
       "\n",
       "                                production_companies release_date vote_count  \\\n",
       "0  Universal Studios|Amblin Entertainment|Legenda...   2015-06-09       5562   \n",
       "\n",
       "   vote_average  release_year    budget_adj   revenue_adj  \n",
       "0           6.5          2015  1.379999e+08  1.392446e+09  \n",
       "\n",
       "[1 rows x 21 columns]"
      ]
     },
     "execution_count": 8,
     "metadata": {},
     "output_type": "execute_result"
    }
   ],
   "source": [
    "df.head(1)"
   ]
  },
  {
   "cell_type": "code",
   "execution_count": 9,
   "metadata": {},
   "outputs": [
    {
     "data": {
      "text/plain": [
       "0    monster|dna|tyrannosaurus rex|velociraptor|island\n",
       "1     future|chase|post-apocalyptic|dystopia|australia\n",
       "2    based on novel|revolution|dystopia|sequel|dyst...\n",
       "3                android|spaceship|jedi|space opera|3d\n",
       "4                  car race|speed|revenge|suspense|car\n",
       "Name: keywords, dtype: object"
      ]
     },
     "execution_count": 9,
     "metadata": {},
     "output_type": "execute_result"
    }
   ],
   "source": [
    "df.keywords.head()"
   ]
  },
  {
   "cell_type": "markdown",
   "metadata": {},
   "source": [
    "The \"cast\", \"genres\", \"production_companies\", and \"keywords\" columns all contain seperators within each row to denote multiple items. This could cause problems in my analysis when I want to perform calculations associated with individual cast members or genres, rather than all of them together within that row. To clean this, I will split those entities by the separator and put each element into a list within each row. This way I can iterate over each row with a loop to extract individual elements."
   ]
  },
  {
   "cell_type": "code",
   "execution_count": 10,
   "metadata": {},
   "outputs": [
    {
     "data": {
      "text/html": [
       "<div>\n",
       "<style scoped>\n",
       "    .dataframe tbody tr th:only-of-type {\n",
       "        vertical-align: middle;\n",
       "    }\n",
       "\n",
       "    .dataframe tbody tr th {\n",
       "        vertical-align: top;\n",
       "    }\n",
       "\n",
       "    .dataframe thead th {\n",
       "        text-align: right;\n",
       "    }\n",
       "</style>\n",
       "<table border=\"1\" class=\"dataframe\">\n",
       "  <thead>\n",
       "    <tr style=\"text-align: right;\">\n",
       "      <th></th>\n",
       "      <th>id</th>\n",
       "      <th>imdb_id</th>\n",
       "      <th>popularity</th>\n",
       "      <th>budget</th>\n",
       "      <th>revenue</th>\n",
       "      <th>original_title</th>\n",
       "      <th>cast</th>\n",
       "      <th>homepage</th>\n",
       "      <th>director</th>\n",
       "      <th>tagline</th>\n",
       "      <th>...</th>\n",
       "      <th>overview</th>\n",
       "      <th>runtime</th>\n",
       "      <th>genres</th>\n",
       "      <th>production_companies</th>\n",
       "      <th>release_date</th>\n",
       "      <th>vote_count</th>\n",
       "      <th>vote_average</th>\n",
       "      <th>release_year</th>\n",
       "      <th>budget_adj</th>\n",
       "      <th>revenue_adj</th>\n",
       "    </tr>\n",
       "  </thead>\n",
       "  <tbody>\n",
       "    <tr>\n",
       "      <th>0</th>\n",
       "      <td>135397</td>\n",
       "      <td>tt0369610</td>\n",
       "      <td>32.985763</td>\n",
       "      <td>150000000</td>\n",
       "      <td>1513528810</td>\n",
       "      <td>Jurassic World</td>\n",
       "      <td>[Chris Pratt, Bryce Dallas Howard, Irrfan Khan...</td>\n",
       "      <td>http://www.jurassicworld.com/</td>\n",
       "      <td>Colin Trevorrow</td>\n",
       "      <td>The park is open.</td>\n",
       "      <td>...</td>\n",
       "      <td>Twenty-two years after the events of Jurassic ...</td>\n",
       "      <td>124</td>\n",
       "      <td>[Action, Adventure, Science Fiction, Thriller]</td>\n",
       "      <td>[Universal Studios, Amblin Entertainment, Lege...</td>\n",
       "      <td>2015-06-09</td>\n",
       "      <td>5562</td>\n",
       "      <td>6.5</td>\n",
       "      <td>2015</td>\n",
       "      <td>1.379999e+08</td>\n",
       "      <td>1.392446e+09</td>\n",
       "    </tr>\n",
       "    <tr>\n",
       "      <th>1</th>\n",
       "      <td>76341</td>\n",
       "      <td>tt1392190</td>\n",
       "      <td>28.419936</td>\n",
       "      <td>150000000</td>\n",
       "      <td>378436354</td>\n",
       "      <td>Mad Max: Fury Road</td>\n",
       "      <td>[Tom Hardy, Charlize Theron, Hugh Keays-Byrne,...</td>\n",
       "      <td>http://www.madmaxmovie.com/</td>\n",
       "      <td>George Miller</td>\n",
       "      <td>What a Lovely Day.</td>\n",
       "      <td>...</td>\n",
       "      <td>An apocalyptic story set in the furthest reach...</td>\n",
       "      <td>120</td>\n",
       "      <td>[Action, Adventure, Science Fiction, Thriller]</td>\n",
       "      <td>[Village Roadshow Pictures, Kennedy Miller Pro...</td>\n",
       "      <td>2015-05-13</td>\n",
       "      <td>6185</td>\n",
       "      <td>7.1</td>\n",
       "      <td>2015</td>\n",
       "      <td>1.379999e+08</td>\n",
       "      <td>3.481613e+08</td>\n",
       "    </tr>\n",
       "    <tr>\n",
       "      <th>2</th>\n",
       "      <td>262500</td>\n",
       "      <td>tt2908446</td>\n",
       "      <td>13.112507</td>\n",
       "      <td>110000000</td>\n",
       "      <td>295238201</td>\n",
       "      <td>Insurgent</td>\n",
       "      <td>[Shailene Woodley, Theo James, Kate Winslet, A...</td>\n",
       "      <td>http://www.thedivergentseries.movie/#insurgent</td>\n",
       "      <td>Robert Schwentke</td>\n",
       "      <td>One Choice Can Destroy You</td>\n",
       "      <td>...</td>\n",
       "      <td>Beatrice Prior must confront her inner demons ...</td>\n",
       "      <td>119</td>\n",
       "      <td>[Adventure, Science Fiction, Thriller]</td>\n",
       "      <td>[Summit Entertainment, Mandeville Films, Red W...</td>\n",
       "      <td>2015-03-18</td>\n",
       "      <td>2480</td>\n",
       "      <td>6.3</td>\n",
       "      <td>2015</td>\n",
       "      <td>1.012000e+08</td>\n",
       "      <td>2.716190e+08</td>\n",
       "    </tr>\n",
       "    <tr>\n",
       "      <th>3</th>\n",
       "      <td>140607</td>\n",
       "      <td>tt2488496</td>\n",
       "      <td>11.173104</td>\n",
       "      <td>200000000</td>\n",
       "      <td>2068178225</td>\n",
       "      <td>Star Wars: The Force Awakens</td>\n",
       "      <td>[Harrison Ford, Mark Hamill, Carrie Fisher, Ad...</td>\n",
       "      <td>http://www.starwars.com/films/star-wars-episod...</td>\n",
       "      <td>J.J. Abrams</td>\n",
       "      <td>Every generation has a story.</td>\n",
       "      <td>...</td>\n",
       "      <td>Thirty years after defeating the Galactic Empi...</td>\n",
       "      <td>136</td>\n",
       "      <td>[Action, Adventure, Science Fiction, Fantasy]</td>\n",
       "      <td>[Lucasfilm, Truenorth Productions, Bad Robot]</td>\n",
       "      <td>2015-12-15</td>\n",
       "      <td>5292</td>\n",
       "      <td>7.5</td>\n",
       "      <td>2015</td>\n",
       "      <td>1.839999e+08</td>\n",
       "      <td>1.902723e+09</td>\n",
       "    </tr>\n",
       "    <tr>\n",
       "      <th>4</th>\n",
       "      <td>168259</td>\n",
       "      <td>tt2820852</td>\n",
       "      <td>9.335014</td>\n",
       "      <td>190000000</td>\n",
       "      <td>1506249360</td>\n",
       "      <td>Furious 7</td>\n",
       "      <td>[Vin Diesel, Paul Walker, Jason Statham, Miche...</td>\n",
       "      <td>http://www.furious7.com/</td>\n",
       "      <td>James Wan</td>\n",
       "      <td>Vengeance Hits Home</td>\n",
       "      <td>...</td>\n",
       "      <td>Deckard Shaw seeks revenge against Dominic Tor...</td>\n",
       "      <td>137</td>\n",
       "      <td>[Action, Crime, Thriller]</td>\n",
       "      <td>[Universal Pictures, Original Film, Media Righ...</td>\n",
       "      <td>2015-04-01</td>\n",
       "      <td>2947</td>\n",
       "      <td>7.3</td>\n",
       "      <td>2015</td>\n",
       "      <td>1.747999e+08</td>\n",
       "      <td>1.385749e+09</td>\n",
       "    </tr>\n",
       "  </tbody>\n",
       "</table>\n",
       "<p>5 rows × 21 columns</p>\n",
       "</div>"
      ],
      "text/plain": [
       "       id    imdb_id  popularity     budget     revenue  \\\n",
       "0  135397  tt0369610   32.985763  150000000  1513528810   \n",
       "1   76341  tt1392190   28.419936  150000000   378436354   \n",
       "2  262500  tt2908446   13.112507  110000000   295238201   \n",
       "3  140607  tt2488496   11.173104  200000000  2068178225   \n",
       "4  168259  tt2820852    9.335014  190000000  1506249360   \n",
       "\n",
       "                 original_title  \\\n",
       "0                Jurassic World   \n",
       "1            Mad Max: Fury Road   \n",
       "2                     Insurgent   \n",
       "3  Star Wars: The Force Awakens   \n",
       "4                     Furious 7   \n",
       "\n",
       "                                                cast  \\\n",
       "0  [Chris Pratt, Bryce Dallas Howard, Irrfan Khan...   \n",
       "1  [Tom Hardy, Charlize Theron, Hugh Keays-Byrne,...   \n",
       "2  [Shailene Woodley, Theo James, Kate Winslet, A...   \n",
       "3  [Harrison Ford, Mark Hamill, Carrie Fisher, Ad...   \n",
       "4  [Vin Diesel, Paul Walker, Jason Statham, Miche...   \n",
       "\n",
       "                                            homepage          director  \\\n",
       "0                      http://www.jurassicworld.com/   Colin Trevorrow   \n",
       "1                        http://www.madmaxmovie.com/     George Miller   \n",
       "2     http://www.thedivergentseries.movie/#insurgent  Robert Schwentke   \n",
       "3  http://www.starwars.com/films/star-wars-episod...       J.J. Abrams   \n",
       "4                           http://www.furious7.com/         James Wan   \n",
       "\n",
       "                         tagline  ...  \\\n",
       "0              The park is open.  ...   \n",
       "1             What a Lovely Day.  ...   \n",
       "2     One Choice Can Destroy You  ...   \n",
       "3  Every generation has a story.  ...   \n",
       "4            Vengeance Hits Home  ...   \n",
       "\n",
       "                                            overview runtime  \\\n",
       "0  Twenty-two years after the events of Jurassic ...     124   \n",
       "1  An apocalyptic story set in the furthest reach...     120   \n",
       "2  Beatrice Prior must confront her inner demons ...     119   \n",
       "3  Thirty years after defeating the Galactic Empi...     136   \n",
       "4  Deckard Shaw seeks revenge against Dominic Tor...     137   \n",
       "\n",
       "                                           genres  \\\n",
       "0  [Action, Adventure, Science Fiction, Thriller]   \n",
       "1  [Action, Adventure, Science Fiction, Thriller]   \n",
       "2          [Adventure, Science Fiction, Thriller]   \n",
       "3   [Action, Adventure, Science Fiction, Fantasy]   \n",
       "4                       [Action, Crime, Thriller]   \n",
       "\n",
       "                                production_companies release_date vote_count  \\\n",
       "0  [Universal Studios, Amblin Entertainment, Lege...   2015-06-09       5562   \n",
       "1  [Village Roadshow Pictures, Kennedy Miller Pro...   2015-05-13       6185   \n",
       "2  [Summit Entertainment, Mandeville Films, Red W...   2015-03-18       2480   \n",
       "3      [Lucasfilm, Truenorth Productions, Bad Robot]   2015-12-15       5292   \n",
       "4  [Universal Pictures, Original Film, Media Righ...   2015-04-01       2947   \n",
       "\n",
       "   vote_average  release_year    budget_adj   revenue_adj  \n",
       "0           6.5          2015  1.379999e+08  1.392446e+09  \n",
       "1           7.1          2015  1.379999e+08  3.481613e+08  \n",
       "2           6.3          2015  1.012000e+08  2.716190e+08  \n",
       "3           7.5          2015  1.839999e+08  1.902723e+09  \n",
       "4           7.3          2015  1.747999e+08  1.385749e+09  \n",
       "\n",
       "[5 rows x 21 columns]"
      ]
     },
     "execution_count": 10,
     "metadata": {},
     "output_type": "execute_result"
    }
   ],
   "source": [
    "# Split the elements of each field where there are multiple items and place them into lists within each row\n",
    "df['cast'] = df['cast'].str.split('|')\n",
    "df['genres'] = df['genres'].str.split('|')\n",
    "df['production_companies'] = df['production_companies'].str.split('|')\n",
    "df['keywords'] = df['keywords'].str.split('|')\n",
    "df.head()"
   ]
  },
  {
   "cell_type": "markdown",
   "metadata": {},
   "source": [
    "There are a few columns I am not using for my analysis, so I will drop them from the dataset."
   ]
  },
  {
   "cell_type": "code",
   "execution_count": 11,
   "metadata": {},
   "outputs": [
    {
     "data": {
      "text/html": [
       "<div>\n",
       "<style scoped>\n",
       "    .dataframe tbody tr th:only-of-type {\n",
       "        vertical-align: middle;\n",
       "    }\n",
       "\n",
       "    .dataframe tbody tr th {\n",
       "        vertical-align: top;\n",
       "    }\n",
       "\n",
       "    .dataframe thead th {\n",
       "        text-align: right;\n",
       "    }\n",
       "</style>\n",
       "<table border=\"1\" class=\"dataframe\">\n",
       "  <thead>\n",
       "    <tr style=\"text-align: right;\">\n",
       "      <th></th>\n",
       "      <th>popularity</th>\n",
       "      <th>budget</th>\n",
       "      <th>revenue</th>\n",
       "      <th>original_title</th>\n",
       "      <th>cast</th>\n",
       "      <th>director</th>\n",
       "      <th>keywords</th>\n",
       "      <th>runtime</th>\n",
       "      <th>genres</th>\n",
       "      <th>production_companies</th>\n",
       "      <th>release_date</th>\n",
       "      <th>vote_count</th>\n",
       "      <th>vote_average</th>\n",
       "      <th>release_year</th>\n",
       "      <th>budget_adj</th>\n",
       "      <th>revenue_adj</th>\n",
       "    </tr>\n",
       "  </thead>\n",
       "  <tbody>\n",
       "    <tr>\n",
       "      <th>0</th>\n",
       "      <td>32.985763</td>\n",
       "      <td>150000000</td>\n",
       "      <td>1513528810</td>\n",
       "      <td>Jurassic World</td>\n",
       "      <td>[Chris Pratt, Bryce Dallas Howard, Irrfan Khan...</td>\n",
       "      <td>Colin Trevorrow</td>\n",
       "      <td>[monster, dna, tyrannosaurus rex, velociraptor...</td>\n",
       "      <td>124</td>\n",
       "      <td>[Action, Adventure, Science Fiction, Thriller]</td>\n",
       "      <td>[Universal Studios, Amblin Entertainment, Lege...</td>\n",
       "      <td>2015-06-09</td>\n",
       "      <td>5562</td>\n",
       "      <td>6.5</td>\n",
       "      <td>2015</td>\n",
       "      <td>1.379999e+08</td>\n",
       "      <td>1.392446e+09</td>\n",
       "    </tr>\n",
       "    <tr>\n",
       "      <th>1</th>\n",
       "      <td>28.419936</td>\n",
       "      <td>150000000</td>\n",
       "      <td>378436354</td>\n",
       "      <td>Mad Max: Fury Road</td>\n",
       "      <td>[Tom Hardy, Charlize Theron, Hugh Keays-Byrne,...</td>\n",
       "      <td>George Miller</td>\n",
       "      <td>[future, chase, post-apocalyptic, dystopia, au...</td>\n",
       "      <td>120</td>\n",
       "      <td>[Action, Adventure, Science Fiction, Thriller]</td>\n",
       "      <td>[Village Roadshow Pictures, Kennedy Miller Pro...</td>\n",
       "      <td>2015-05-13</td>\n",
       "      <td>6185</td>\n",
       "      <td>7.1</td>\n",
       "      <td>2015</td>\n",
       "      <td>1.379999e+08</td>\n",
       "      <td>3.481613e+08</td>\n",
       "    </tr>\n",
       "    <tr>\n",
       "      <th>2</th>\n",
       "      <td>13.112507</td>\n",
       "      <td>110000000</td>\n",
       "      <td>295238201</td>\n",
       "      <td>Insurgent</td>\n",
       "      <td>[Shailene Woodley, Theo James, Kate Winslet, A...</td>\n",
       "      <td>Robert Schwentke</td>\n",
       "      <td>[based on novel, revolution, dystopia, sequel,...</td>\n",
       "      <td>119</td>\n",
       "      <td>[Adventure, Science Fiction, Thriller]</td>\n",
       "      <td>[Summit Entertainment, Mandeville Films, Red W...</td>\n",
       "      <td>2015-03-18</td>\n",
       "      <td>2480</td>\n",
       "      <td>6.3</td>\n",
       "      <td>2015</td>\n",
       "      <td>1.012000e+08</td>\n",
       "      <td>2.716190e+08</td>\n",
       "    </tr>\n",
       "    <tr>\n",
       "      <th>3</th>\n",
       "      <td>11.173104</td>\n",
       "      <td>200000000</td>\n",
       "      <td>2068178225</td>\n",
       "      <td>Star Wars: The Force Awakens</td>\n",
       "      <td>[Harrison Ford, Mark Hamill, Carrie Fisher, Ad...</td>\n",
       "      <td>J.J. Abrams</td>\n",
       "      <td>[android, spaceship, jedi, space opera, 3d]</td>\n",
       "      <td>136</td>\n",
       "      <td>[Action, Adventure, Science Fiction, Fantasy]</td>\n",
       "      <td>[Lucasfilm, Truenorth Productions, Bad Robot]</td>\n",
       "      <td>2015-12-15</td>\n",
       "      <td>5292</td>\n",
       "      <td>7.5</td>\n",
       "      <td>2015</td>\n",
       "      <td>1.839999e+08</td>\n",
       "      <td>1.902723e+09</td>\n",
       "    </tr>\n",
       "    <tr>\n",
       "      <th>4</th>\n",
       "      <td>9.335014</td>\n",
       "      <td>190000000</td>\n",
       "      <td>1506249360</td>\n",
       "      <td>Furious 7</td>\n",
       "      <td>[Vin Diesel, Paul Walker, Jason Statham, Miche...</td>\n",
       "      <td>James Wan</td>\n",
       "      <td>[car race, speed, revenge, suspense, car]</td>\n",
       "      <td>137</td>\n",
       "      <td>[Action, Crime, Thriller]</td>\n",
       "      <td>[Universal Pictures, Original Film, Media Righ...</td>\n",
       "      <td>2015-04-01</td>\n",
       "      <td>2947</td>\n",
       "      <td>7.3</td>\n",
       "      <td>2015</td>\n",
       "      <td>1.747999e+08</td>\n",
       "      <td>1.385749e+09</td>\n",
       "    </tr>\n",
       "  </tbody>\n",
       "</table>\n",
       "</div>"
      ],
      "text/plain": [
       "   popularity     budget     revenue                original_title  \\\n",
       "0   32.985763  150000000  1513528810                Jurassic World   \n",
       "1   28.419936  150000000   378436354            Mad Max: Fury Road   \n",
       "2   13.112507  110000000   295238201                     Insurgent   \n",
       "3   11.173104  200000000  2068178225  Star Wars: The Force Awakens   \n",
       "4    9.335014  190000000  1506249360                     Furious 7   \n",
       "\n",
       "                                                cast          director  \\\n",
       "0  [Chris Pratt, Bryce Dallas Howard, Irrfan Khan...   Colin Trevorrow   \n",
       "1  [Tom Hardy, Charlize Theron, Hugh Keays-Byrne,...     George Miller   \n",
       "2  [Shailene Woodley, Theo James, Kate Winslet, A...  Robert Schwentke   \n",
       "3  [Harrison Ford, Mark Hamill, Carrie Fisher, Ad...       J.J. Abrams   \n",
       "4  [Vin Diesel, Paul Walker, Jason Statham, Miche...         James Wan   \n",
       "\n",
       "                                            keywords  runtime  \\\n",
       "0  [monster, dna, tyrannosaurus rex, velociraptor...      124   \n",
       "1  [future, chase, post-apocalyptic, dystopia, au...      120   \n",
       "2  [based on novel, revolution, dystopia, sequel,...      119   \n",
       "3        [android, spaceship, jedi, space opera, 3d]      136   \n",
       "4          [car race, speed, revenge, suspense, car]      137   \n",
       "\n",
       "                                           genres  \\\n",
       "0  [Action, Adventure, Science Fiction, Thriller]   \n",
       "1  [Action, Adventure, Science Fiction, Thriller]   \n",
       "2          [Adventure, Science Fiction, Thriller]   \n",
       "3   [Action, Adventure, Science Fiction, Fantasy]   \n",
       "4                       [Action, Crime, Thriller]   \n",
       "\n",
       "                                production_companies release_date  vote_count  \\\n",
       "0  [Universal Studios, Amblin Entertainment, Lege...   2015-06-09        5562   \n",
       "1  [Village Roadshow Pictures, Kennedy Miller Pro...   2015-05-13        6185   \n",
       "2  [Summit Entertainment, Mandeville Films, Red W...   2015-03-18        2480   \n",
       "3      [Lucasfilm, Truenorth Productions, Bad Robot]   2015-12-15        5292   \n",
       "4  [Universal Pictures, Original Film, Media Righ...   2015-04-01        2947   \n",
       "\n",
       "   vote_average  release_year    budget_adj   revenue_adj  \n",
       "0           6.5          2015  1.379999e+08  1.392446e+09  \n",
       "1           7.1          2015  1.379999e+08  3.481613e+08  \n",
       "2           6.3          2015  1.012000e+08  2.716190e+08  \n",
       "3           7.5          2015  1.839999e+08  1.902723e+09  \n",
       "4           7.3          2015  1.747999e+08  1.385749e+09  "
      ]
     },
     "execution_count": 11,
     "metadata": {},
     "output_type": "execute_result"
    }
   ],
   "source": [
    "# Drop unneeded columns\n",
    "df.drop(['id', 'imdb_id', 'homepage', 'tagline', 'overview'], axis=1, inplace=True)\n",
    "df.head()"
   ]
  },
  {
   "cell_type": "markdown",
   "metadata": {},
   "source": [
    "Next I will drop the 'revenue' and 'budget' columns and rename the 'revenue_adj' and 'budget_adj' columns in order to have the most up-to-date values for future calculations."
   ]
  },
  {
   "cell_type": "code",
   "execution_count": 12,
   "metadata": {},
   "outputs": [
    {
     "data": {
      "text/html": [
       "<div>\n",
       "<style scoped>\n",
       "    .dataframe tbody tr th:only-of-type {\n",
       "        vertical-align: middle;\n",
       "    }\n",
       "\n",
       "    .dataframe tbody tr th {\n",
       "        vertical-align: top;\n",
       "    }\n",
       "\n",
       "    .dataframe thead th {\n",
       "        text-align: right;\n",
       "    }\n",
       "</style>\n",
       "<table border=\"1\" class=\"dataframe\">\n",
       "  <thead>\n",
       "    <tr style=\"text-align: right;\">\n",
       "      <th></th>\n",
       "      <th>popularity</th>\n",
       "      <th>original_title</th>\n",
       "      <th>cast</th>\n",
       "      <th>director</th>\n",
       "      <th>keywords</th>\n",
       "      <th>runtime</th>\n",
       "      <th>genres</th>\n",
       "      <th>production_companies</th>\n",
       "      <th>release_date</th>\n",
       "      <th>vote_count</th>\n",
       "      <th>vote_average</th>\n",
       "      <th>release_year</th>\n",
       "      <th>budget_adj</th>\n",
       "      <th>revenue_adj</th>\n",
       "    </tr>\n",
       "  </thead>\n",
       "  <tbody>\n",
       "    <tr>\n",
       "      <th>0</th>\n",
       "      <td>32.985763</td>\n",
       "      <td>Jurassic World</td>\n",
       "      <td>[Chris Pratt, Bryce Dallas Howard, Irrfan Khan...</td>\n",
       "      <td>Colin Trevorrow</td>\n",
       "      <td>[monster, dna, tyrannosaurus rex, velociraptor...</td>\n",
       "      <td>124</td>\n",
       "      <td>[Action, Adventure, Science Fiction, Thriller]</td>\n",
       "      <td>[Universal Studios, Amblin Entertainment, Lege...</td>\n",
       "      <td>2015-06-09</td>\n",
       "      <td>5562</td>\n",
       "      <td>6.5</td>\n",
       "      <td>2015</td>\n",
       "      <td>1.379999e+08</td>\n",
       "      <td>1.392446e+09</td>\n",
       "    </tr>\n",
       "  </tbody>\n",
       "</table>\n",
       "</div>"
      ],
      "text/plain": [
       "   popularity  original_title  \\\n",
       "0   32.985763  Jurassic World   \n",
       "\n",
       "                                                cast         director  \\\n",
       "0  [Chris Pratt, Bryce Dallas Howard, Irrfan Khan...  Colin Trevorrow   \n",
       "\n",
       "                                            keywords  runtime  \\\n",
       "0  [monster, dna, tyrannosaurus rex, velociraptor...      124   \n",
       "\n",
       "                                           genres  \\\n",
       "0  [Action, Adventure, Science Fiction, Thriller]   \n",
       "\n",
       "                                production_companies release_date  vote_count  \\\n",
       "0  [Universal Studios, Amblin Entertainment, Lege...   2015-06-09        5562   \n",
       "\n",
       "   vote_average  release_year    budget_adj   revenue_adj  \n",
       "0           6.5          2015  1.379999e+08  1.392446e+09  "
      ]
     },
     "execution_count": 12,
     "metadata": {},
     "output_type": "execute_result"
    }
   ],
   "source": [
    "# Drop extra budget and revenue columns\n",
    "df.drop(['revenue', 'budget'], axis=1, inplace=True)\n",
    "df.head(1)"
   ]
  },
  {
   "cell_type": "code",
   "execution_count": 13,
   "metadata": {},
   "outputs": [
    {
     "data": {
      "text/html": [
       "<div>\n",
       "<style scoped>\n",
       "    .dataframe tbody tr th:only-of-type {\n",
       "        vertical-align: middle;\n",
       "    }\n",
       "\n",
       "    .dataframe tbody tr th {\n",
       "        vertical-align: top;\n",
       "    }\n",
       "\n",
       "    .dataframe thead th {\n",
       "        text-align: right;\n",
       "    }\n",
       "</style>\n",
       "<table border=\"1\" class=\"dataframe\">\n",
       "  <thead>\n",
       "    <tr style=\"text-align: right;\">\n",
       "      <th></th>\n",
       "      <th>popularity</th>\n",
       "      <th>original_title</th>\n",
       "      <th>cast</th>\n",
       "      <th>director</th>\n",
       "      <th>keywords</th>\n",
       "      <th>runtime</th>\n",
       "      <th>genres</th>\n",
       "      <th>production_companies</th>\n",
       "      <th>release_date</th>\n",
       "      <th>vote_count</th>\n",
       "      <th>vote_average</th>\n",
       "      <th>release_year</th>\n",
       "      <th>budget</th>\n",
       "      <th>revenue</th>\n",
       "    </tr>\n",
       "  </thead>\n",
       "  <tbody>\n",
       "    <tr>\n",
       "      <th>0</th>\n",
       "      <td>32.985763</td>\n",
       "      <td>Jurassic World</td>\n",
       "      <td>[Chris Pratt, Bryce Dallas Howard, Irrfan Khan...</td>\n",
       "      <td>Colin Trevorrow</td>\n",
       "      <td>[monster, dna, tyrannosaurus rex, velociraptor...</td>\n",
       "      <td>124</td>\n",
       "      <td>[Action, Adventure, Science Fiction, Thriller]</td>\n",
       "      <td>[Universal Studios, Amblin Entertainment, Lege...</td>\n",
       "      <td>2015-06-09</td>\n",
       "      <td>5562</td>\n",
       "      <td>6.5</td>\n",
       "      <td>2015</td>\n",
       "      <td>1.379999e+08</td>\n",
       "      <td>1.392446e+09</td>\n",
       "    </tr>\n",
       "  </tbody>\n",
       "</table>\n",
       "</div>"
      ],
      "text/plain": [
       "   popularity  original_title  \\\n",
       "0   32.985763  Jurassic World   \n",
       "\n",
       "                                                cast         director  \\\n",
       "0  [Chris Pratt, Bryce Dallas Howard, Irrfan Khan...  Colin Trevorrow   \n",
       "\n",
       "                                            keywords  runtime  \\\n",
       "0  [monster, dna, tyrannosaurus rex, velociraptor...      124   \n",
       "\n",
       "                                           genres  \\\n",
       "0  [Action, Adventure, Science Fiction, Thriller]   \n",
       "\n",
       "                                production_companies release_date  vote_count  \\\n",
       "0  [Universal Studios, Amblin Entertainment, Lege...   2015-06-09        5562   \n",
       "\n",
       "   vote_average  release_year        budget       revenue  \n",
       "0           6.5          2015  1.379999e+08  1.392446e+09  "
      ]
     },
     "execution_count": 13,
     "metadata": {},
     "output_type": "execute_result"
    }
   ],
   "source": [
    "# Rename the columns to remove 'adj', to make selecting them a bit easier\n",
    "df.rename(columns={'budget_adj': 'budget', 'revenue_adj': 'revenue'}, inplace=True)\n",
    "df.head(1)"
   ]
  },
  {
   "cell_type": "markdown",
   "metadata": {},
   "source": [
    "Now I will check for null values."
   ]
  },
  {
   "cell_type": "code",
   "execution_count": 14,
   "metadata": {},
   "outputs": [
    {
     "data": {
      "text/plain": [
       "True"
      ]
     },
     "execution_count": 14,
     "metadata": {},
     "output_type": "execute_result"
    }
   ],
   "source": [
    "# Determine if there are null values in the dataset\n",
    "df.isnull().sum().any()"
   ]
  },
  {
   "cell_type": "markdown",
   "metadata": {},
   "source": [
    "There are null values in the dataset. Let's drill down further to see which columns contain the null values."
   ]
  },
  {
   "cell_type": "code",
   "execution_count": 15,
   "metadata": {},
   "outputs": [
    {
     "data": {
      "text/plain": [
       "popularity                 0\n",
       "original_title             0\n",
       "cast                      76\n",
       "director                  44\n",
       "keywords                1493\n",
       "runtime                    0\n",
       "genres                    23\n",
       "production_companies    1030\n",
       "release_date               0\n",
       "vote_count                 0\n",
       "vote_average               0\n",
       "release_year               0\n",
       "budget                     0\n",
       "revenue                    0\n",
       "dtype: int64"
      ]
     },
     "execution_count": 15,
     "metadata": {},
     "output_type": "execute_result"
    }
   ],
   "source": [
    "# Count how many null values there are of each field\n",
    "df.isnull().sum()"
   ]
  },
  {
   "cell_type": "markdown",
   "metadata": {},
   "source": [
    "It looks like the null values all occur in categorical fields. For the highest integrity of the analysis, I will drop the null values."
   ]
  },
  {
   "cell_type": "code",
   "execution_count": 16,
   "metadata": {},
   "outputs": [
    {
     "data": {
      "text/plain": [
       "(8666, 14)"
      ]
     },
     "execution_count": 16,
     "metadata": {},
     "output_type": "execute_result"
    }
   ],
   "source": [
    "# Drop rows where there are null values\n",
    "df.dropna(inplace=True)\n",
    "df.reset_index(inplace=True, drop=True)\n",
    "df.shape"
   ]
  },
  {
   "cell_type": "markdown",
   "metadata": {},
   "source": [
    "There are now 8,667 movies in this dataset. The last step is to describe the data to determine if there are any outliers that I may potentially need to remove."
   ]
  },
  {
   "cell_type": "code",
   "execution_count": 17,
   "metadata": {},
   "outputs": [
    {
     "data": {
      "text/html": [
       "<div>\n",
       "<style scoped>\n",
       "    .dataframe tbody tr th:only-of-type {\n",
       "        vertical-align: middle;\n",
       "    }\n",
       "\n",
       "    .dataframe tbody tr th {\n",
       "        vertical-align: top;\n",
       "    }\n",
       "\n",
       "    .dataframe thead th {\n",
       "        text-align: right;\n",
       "    }\n",
       "</style>\n",
       "<table border=\"1\" class=\"dataframe\">\n",
       "  <thead>\n",
       "    <tr style=\"text-align: right;\">\n",
       "      <th></th>\n",
       "      <th>popularity</th>\n",
       "      <th>runtime</th>\n",
       "      <th>vote_count</th>\n",
       "      <th>vote_average</th>\n",
       "      <th>release_year</th>\n",
       "      <th>budget</th>\n",
       "      <th>revenue</th>\n",
       "    </tr>\n",
       "  </thead>\n",
       "  <tbody>\n",
       "    <tr>\n",
       "      <th>count</th>\n",
       "      <td>8666.000000</td>\n",
       "      <td>8666.000000</td>\n",
       "      <td>8666.000000</td>\n",
       "      <td>8666.000000</td>\n",
       "      <td>8666.000000</td>\n",
       "      <td>8.666000e+03</td>\n",
       "      <td>8.666000e+03</td>\n",
       "    </tr>\n",
       "    <tr>\n",
       "      <th>mean</th>\n",
       "      <td>0.741937</td>\n",
       "      <td>103.815140</td>\n",
       "      <td>264.204823</td>\n",
       "      <td>6.003612</td>\n",
       "      <td>2000.129818</td>\n",
       "      <td>2.130749e+07</td>\n",
       "      <td>6.362440e+07</td>\n",
       "    </tr>\n",
       "    <tr>\n",
       "      <th>std</th>\n",
       "      <td>1.087657</td>\n",
       "      <td>26.207186</td>\n",
       "      <td>635.195808</td>\n",
       "      <td>0.893539</td>\n",
       "      <td>13.221278</td>\n",
       "      <td>3.710269e+07</td>\n",
       "      <td>1.592874e+08</td>\n",
       "    </tr>\n",
       "    <tr>\n",
       "      <th>min</th>\n",
       "      <td>0.000188</td>\n",
       "      <td>0.000000</td>\n",
       "      <td>10.000000</td>\n",
       "      <td>1.500000</td>\n",
       "      <td>1960.000000</td>\n",
       "      <td>0.000000e+00</td>\n",
       "      <td>0.000000e+00</td>\n",
       "    </tr>\n",
       "    <tr>\n",
       "      <th>25%</th>\n",
       "      <td>0.249990</td>\n",
       "      <td>91.000000</td>\n",
       "      <td>20.000000</td>\n",
       "      <td>5.500000</td>\n",
       "      <td>1993.000000</td>\n",
       "      <td>0.000000e+00</td>\n",
       "      <td>0.000000e+00</td>\n",
       "    </tr>\n",
       "    <tr>\n",
       "      <th>50%</th>\n",
       "      <td>0.449377</td>\n",
       "      <td>100.000000</td>\n",
       "      <td>54.000000</td>\n",
       "      <td>6.100000</td>\n",
       "      <td>2004.000000</td>\n",
       "      <td>2.130703e+06</td>\n",
       "      <td>1.891237e+05</td>\n",
       "    </tr>\n",
       "    <tr>\n",
       "      <th>75%</th>\n",
       "      <td>0.842984</td>\n",
       "      <td>113.000000</td>\n",
       "      <td>200.000000</td>\n",
       "      <td>6.600000</td>\n",
       "      <td>2011.000000</td>\n",
       "      <td>2.810466e+07</td>\n",
       "      <td>5.524857e+07</td>\n",
       "    </tr>\n",
       "    <tr>\n",
       "      <th>max</th>\n",
       "      <td>32.985763</td>\n",
       "      <td>705.000000</td>\n",
       "      <td>9767.000000</td>\n",
       "      <td>8.700000</td>\n",
       "      <td>2015.000000</td>\n",
       "      <td>4.250000e+08</td>\n",
       "      <td>2.827124e+09</td>\n",
       "    </tr>\n",
       "  </tbody>\n",
       "</table>\n",
       "</div>"
      ],
      "text/plain": [
       "        popularity      runtime   vote_count  vote_average  release_year  \\\n",
       "count  8666.000000  8666.000000  8666.000000   8666.000000   8666.000000   \n",
       "mean      0.741937   103.815140   264.204823      6.003612   2000.129818   \n",
       "std       1.087657    26.207186   635.195808      0.893539     13.221278   \n",
       "min       0.000188     0.000000    10.000000      1.500000   1960.000000   \n",
       "25%       0.249990    91.000000    20.000000      5.500000   1993.000000   \n",
       "50%       0.449377   100.000000    54.000000      6.100000   2004.000000   \n",
       "75%       0.842984   113.000000   200.000000      6.600000   2011.000000   \n",
       "max      32.985763   705.000000  9767.000000      8.700000   2015.000000   \n",
       "\n",
       "             budget       revenue  \n",
       "count  8.666000e+03  8.666000e+03  \n",
       "mean   2.130749e+07  6.362440e+07  \n",
       "std    3.710269e+07  1.592874e+08  \n",
       "min    0.000000e+00  0.000000e+00  \n",
       "25%    0.000000e+00  0.000000e+00  \n",
       "50%    2.130703e+06  1.891237e+05  \n",
       "75%    2.810466e+07  5.524857e+07  \n",
       "max    4.250000e+08  2.827124e+09  "
      ]
     },
     "execution_count": 17,
     "metadata": {},
     "output_type": "execute_result"
    }
   ],
   "source": [
    "df.describe()"
   ]
  },
  {
   "cell_type": "markdown",
   "metadata": {},
   "source": [
    "Obseriving the range of the data, I see that the 'runtime', 'budget', and 'revenue' columns have minimum values of zero. Zeroes for these rows can be assumed to be errors and I will remove those rows to avoid skews of future calculations."
   ]
  },
  {
   "cell_type": "code",
   "execution_count": 18,
   "metadata": {},
   "outputs": [
    {
     "data": {
      "text/plain": [
       "(3677, 14)"
      ]
     },
     "execution_count": 18,
     "metadata": {},
     "output_type": "execute_result"
    }
   ],
   "source": [
    "# Filter the data to include rows where runtime, revenue, and budget are not zero\n",
    "cols = ['runtime', 'revenue', 'budget']\n",
    "for c in cols:\n",
    "    df = df[df[c] != 0]\n",
    "    \n",
    "df.reset_index(inplace=True, drop=True)\n",
    "df.shape"
   ]
  },
  {
   "cell_type": "markdown",
   "metadata": {},
   "source": [
    "The dataset now contains 3,677 movies."
   ]
  },
  {
   "cell_type": "markdown",
   "metadata": {},
   "source": [
    "<a id='eda'></a>\n",
    "## Exploratory Data Analysis\n"
   ]
  },
  {
   "cell_type": "code",
   "execution_count": 19,
   "metadata": {},
   "outputs": [
    {
     "data": {
      "image/png": "[encoded data removed]",
      "text/plain": [
       "<Figure size 720x720 with 9 Axes>"
      ]
     },
     "metadata": {
      "needs_background": "light"
     },
     "output_type": "display_data"
    }
   ],
   "source": [
    "# Plot histograms of each quantitative field to determine shape of data\n",
    "df.hist(figsize=(10,10));"
   ]
  },
  {
   "cell_type": "markdown",
   "metadata": {},
   "source": [
    "__**Observations:**__\n",
    "\n",
    "- Most of the elements of the dataset are skewed to the right, which makes sense because there are only a few blockbusters and major hits per year (not all movies are big budget successes). \n",
    "- The 'vote_average', or movie rating, is normally distributed, signifying that movie ratings didn't vary greatly. This is interesting, tying back to my question of ratings vs. popularity vs. budget, because this could mean that some higher budget films received subpar ratings.\n",
    "- Budget and revenue are both skewed to the right, however the skew is greater for revenue. This shows me that there might have been more films that lost money than made money.\n",
    "- Most of the movies in this dataset are modern (i.e. being released after 2000).\n",
    "\n",
    "Now I'll move on to answer the questions I posed in the introduction."
   ]
  },
  {
   "cell_type": "markdown",
   "metadata": {},
   "source": [
    "### Q1: What years were the most successful in terms of revenue?"
   ]
  },
  {
   "cell_type": "code",
   "execution_count": 20,
   "metadata": {},
   "outputs": [
    {
     "data": {
      "text/html": [
       "<div>\n",
       "<style scoped>\n",
       "    .dataframe tbody tr th:only-of-type {\n",
       "        vertical-align: middle;\n",
       "    }\n",
       "\n",
       "    .dataframe tbody tr th {\n",
       "        vertical-align: top;\n",
       "    }\n",
       "\n",
       "    .dataframe thead th {\n",
       "        text-align: right;\n",
       "    }\n",
       "</style>\n",
       "<table border=\"1\" class=\"dataframe\">\n",
       "  <thead>\n",
       "    <tr style=\"text-align: right;\">\n",
       "      <th></th>\n",
       "      <th>popularity</th>\n",
       "      <th>original_title</th>\n",
       "      <th>cast</th>\n",
       "      <th>director</th>\n",
       "      <th>keywords</th>\n",
       "      <th>runtime</th>\n",
       "      <th>genres</th>\n",
       "      <th>production_companies</th>\n",
       "      <th>release_date</th>\n",
       "      <th>vote_count</th>\n",
       "      <th>vote_average</th>\n",
       "      <th>release_year</th>\n",
       "      <th>budget</th>\n",
       "      <th>revenue</th>\n",
       "      <th>net_revenue</th>\n",
       "    </tr>\n",
       "  </thead>\n",
       "  <tbody>\n",
       "    <tr>\n",
       "      <th>0</th>\n",
       "      <td>32.985763</td>\n",
       "      <td>Jurassic World</td>\n",
       "      <td>[Chris Pratt, Bryce Dallas Howard, Irrfan Khan...</td>\n",
       "      <td>Colin Trevorrow</td>\n",
       "      <td>[monster, dna, tyrannosaurus rex, velociraptor...</td>\n",
       "      <td>124</td>\n",
       "      <td>[Action, Adventure, Science Fiction, Thriller]</td>\n",
       "      <td>[Universal Studios, Amblin Entertainment, Lege...</td>\n",
       "      <td>2015-06-09</td>\n",
       "      <td>5562</td>\n",
       "      <td>6.5</td>\n",
       "      <td>2015</td>\n",
       "      <td>1.379999e+08</td>\n",
       "      <td>1.392446e+09</td>\n",
       "      <td>1.254446e+09</td>\n",
       "    </tr>\n",
       "    <tr>\n",
       "      <th>1</th>\n",
       "      <td>28.419936</td>\n",
       "      <td>Mad Max: Fury Road</td>\n",
       "      <td>[Tom Hardy, Charlize Theron, Hugh Keays-Byrne,...</td>\n",
       "      <td>George Miller</td>\n",
       "      <td>[future, chase, post-apocalyptic, dystopia, au...</td>\n",
       "      <td>120</td>\n",
       "      <td>[Action, Adventure, Science Fiction, Thriller]</td>\n",
       "      <td>[Village Roadshow Pictures, Kennedy Miller Pro...</td>\n",
       "      <td>2015-05-13</td>\n",
       "      <td>6185</td>\n",
       "      <td>7.1</td>\n",
       "      <td>2015</td>\n",
       "      <td>1.379999e+08</td>\n",
       "      <td>3.481613e+08</td>\n",
       "      <td>2.101614e+08</td>\n",
       "    </tr>\n",
       "    <tr>\n",
       "      <th>2</th>\n",
       "      <td>13.112507</td>\n",
       "      <td>Insurgent</td>\n",
       "      <td>[Shailene Woodley, Theo James, Kate Winslet, A...</td>\n",
       "      <td>Robert Schwentke</td>\n",
       "      <td>[based on novel, revolution, dystopia, sequel,...</td>\n",
       "      <td>119</td>\n",
       "      <td>[Adventure, Science Fiction, Thriller]</td>\n",
       "      <td>[Summit Entertainment, Mandeville Films, Red W...</td>\n",
       "      <td>2015-03-18</td>\n",
       "      <td>2480</td>\n",
       "      <td>6.3</td>\n",
       "      <td>2015</td>\n",
       "      <td>1.012000e+08</td>\n",
       "      <td>2.716190e+08</td>\n",
       "      <td>1.704191e+08</td>\n",
       "    </tr>\n",
       "    <tr>\n",
       "      <th>3</th>\n",
       "      <td>11.173104</td>\n",
       "      <td>Star Wars: The Force Awakens</td>\n",
       "      <td>[Harrison Ford, Mark Hamill, Carrie Fisher, Ad...</td>\n",
       "      <td>J.J. Abrams</td>\n",
       "      <td>[android, spaceship, jedi, space opera, 3d]</td>\n",
       "      <td>136</td>\n",
       "      <td>[Action, Adventure, Science Fiction, Fantasy]</td>\n",
       "      <td>[Lucasfilm, Truenorth Productions, Bad Robot]</td>\n",
       "      <td>2015-12-15</td>\n",
       "      <td>5292</td>\n",
       "      <td>7.5</td>\n",
       "      <td>2015</td>\n",
       "      <td>1.839999e+08</td>\n",
       "      <td>1.902723e+09</td>\n",
       "      <td>1.718723e+09</td>\n",
       "    </tr>\n",
       "    <tr>\n",
       "      <th>4</th>\n",
       "      <td>9.335014</td>\n",
       "      <td>Furious 7</td>\n",
       "      <td>[Vin Diesel, Paul Walker, Jason Statham, Miche...</td>\n",
       "      <td>James Wan</td>\n",
       "      <td>[car race, speed, revenge, suspense, car]</td>\n",
       "      <td>137</td>\n",
       "      <td>[Action, Crime, Thriller]</td>\n",
       "      <td>[Universal Pictures, Original Film, Media Righ...</td>\n",
       "      <td>2015-04-01</td>\n",
       "      <td>2947</td>\n",
       "      <td>7.3</td>\n",
       "      <td>2015</td>\n",
       "      <td>1.747999e+08</td>\n",
       "      <td>1.385749e+09</td>\n",
       "      <td>1.210949e+09</td>\n",
       "    </tr>\n",
       "  </tbody>\n",
       "</table>\n",
       "</div>"
      ],
      "text/plain": [
       "   popularity                original_title  \\\n",
       "0   32.985763                Jurassic World   \n",
       "1   28.419936            Mad Max: Fury Road   \n",
       "2   13.112507                     Insurgent   \n",
       "3   11.173104  Star Wars: The Force Awakens   \n",
       "4    9.335014                     Furious 7   \n",
       "\n",
       "                                                cast          director  \\\n",
       "0  [Chris Pratt, Bryce Dallas Howard, Irrfan Khan...   Colin Trevorrow   \n",
       "1  [Tom Hardy, Charlize Theron, Hugh Keays-Byrne,...     George Miller   \n",
       "2  [Shailene Woodley, Theo James, Kate Winslet, A...  Robert Schwentke   \n",
       "3  [Harrison Ford, Mark Hamill, Carrie Fisher, Ad...       J.J. Abrams   \n",
       "4  [Vin Diesel, Paul Walker, Jason Statham, Miche...         James Wan   \n",
       "\n",
       "                                            keywords  runtime  \\\n",
       "0  [monster, dna, tyrannosaurus rex, velociraptor...      124   \n",
       "1  [future, chase, post-apocalyptic, dystopia, au...      120   \n",
       "2  [based on novel, revolution, dystopia, sequel,...      119   \n",
       "3        [android, spaceship, jedi, space opera, 3d]      136   \n",
       "4          [car race, speed, revenge, suspense, car]      137   \n",
       "\n",
       "                                           genres  \\\n",
       "0  [Action, Adventure, Science Fiction, Thriller]   \n",
       "1  [Action, Adventure, Science Fiction, Thriller]   \n",
       "2          [Adventure, Science Fiction, Thriller]   \n",
       "3   [Action, Adventure, Science Fiction, Fantasy]   \n",
       "4                       [Action, Crime, Thriller]   \n",
       "\n",
       "                                production_companies release_date  vote_count  \\\n",
       "0  [Universal Studios, Amblin Entertainment, Lege...   2015-06-09        5562   \n",
       "1  [Village Roadshow Pictures, Kennedy Miller Pro...   2015-05-13        6185   \n",
       "2  [Summit Entertainment, Mandeville Films, Red W...   2015-03-18        2480   \n",
       "3      [Lucasfilm, Truenorth Productions, Bad Robot]   2015-12-15        5292   \n",
       "4  [Universal Pictures, Original Film, Media Righ...   2015-04-01        2947   \n",
       "\n",
       "   vote_average  release_year        budget       revenue   net_revenue  \n",
       "0           6.5          2015  1.379999e+08  1.392446e+09  1.254446e+09  \n",
       "1           7.1          2015  1.379999e+08  3.481613e+08  2.101614e+08  \n",
       "2           6.3          2015  1.012000e+08  2.716190e+08  1.704191e+08  \n",
       "3           7.5          2015  1.839999e+08  1.902723e+09  1.718723e+09  \n",
       "4           7.3          2015  1.747999e+08  1.385749e+09  1.210949e+09  "
      ]
     },
     "execution_count": 20,
     "metadata": {},
     "output_type": "execute_result"
    }
   ],
   "source": [
    "# Create a column to calculate the net revenue of each film\n",
    "df['net_revenue'] = df['revenue'] - df['budget']\n",
    "df.head()"
   ]
  },
  {
   "cell_type": "code",
   "execution_count": 21,
   "metadata": {},
   "outputs": [],
   "source": [
    "# Group the dataset by year and calculate the averages across quantitative fields.\n",
    "yearly = df.groupby('release_year').mean()"
   ]
  },
  {
   "cell_type": "code",
   "execution_count": 22,
   "metadata": {},
   "outputs": [
    {
     "data": {
      "image/png": "[encoded data removed]",
      "text/plain": [
       "<Figure size 432x288 with 1 Axes>"
      ]
     },
     "metadata": {},
     "output_type": "display_data"
    }
   ],
   "source": [
    "# Plot the average revenue as a line graph\n",
    "sns.set()\n",
    "yearly['net_revenue'].plot()\n",
    "plt.title('Yearly Net Revenue')\n",
    "plt.xlabel('Year')\n",
    "plt.ylabel('Revenue');"
   ]
  },
  {
   "cell_type": "markdown",
   "metadata": {},
   "source": [
    "It looks like the older movies generated more revenue on average than newer movies. This may be because there were less movies available at one time during those years. I think the movie market may have become more saturated as time went on, bringing down the average revenue of movies per year."
   ]
  },
  {
   "cell_type": "code",
   "execution_count": 23,
   "metadata": {},
   "outputs": [
    {
     "data": {
      "text/plain": [
       "release_year\n",
       "1960      4\n",
       "1961     10\n",
       "1962      7\n",
       "1963      6\n",
       "1964      7\n",
       "1965      5\n",
       "1966      5\n",
       "1967     13\n",
       "1968      9\n",
       "1969      4\n",
       "1970     11\n",
       "1971     13\n",
       "1972      8\n",
       "1973     12\n",
       "1974     13\n",
       "1975      9\n",
       "1976     15\n",
       "1977     19\n",
       "1978     16\n",
       "1979     16\n",
       "1980     23\n",
       "1981     29\n",
       "1982     26\n",
       "1983     31\n",
       "1984     41\n",
       "1985     39\n",
       "1986     47\n",
       "1987     45\n",
       "1988     55\n",
       "1989     50\n",
       "1990     52\n",
       "1991     49\n",
       "1992     52\n",
       "1993     70\n",
       "1994     61\n",
       "1995     78\n",
       "1996     82\n",
       "1997     86\n",
       "1998     89\n",
       "1999    111\n",
       "2000    100\n",
       "2001    114\n",
       "2002    120\n",
       "2003    116\n",
       "2004    139\n",
       "2005    157\n",
       "2006    163\n",
       "2007    148\n",
       "2008    153\n",
       "2009    166\n",
       "2010    167\n",
       "2011    192\n",
       "2012    146\n",
       "2013    164\n",
       "2014    159\n",
       "2015    155\n",
       "Name: revenue, dtype: int64"
      ]
     },
     "execution_count": 23,
     "metadata": {},
     "output_type": "execute_result"
    }
   ],
   "source": [
    "# Use the count method on the grouped, yearly revenue data in order to plot the number of films released per year\n",
    "yearly_count = df.groupby('release_year')['revenue'].count()\n",
    "yearly_count"
   ]
  },
  {
   "cell_type": "code",
   "execution_count": 24,
   "metadata": {},
   "outputs": [
    {
     "data": {
      "image/png": "[encoded data removed]",
      "text/plain": [
       "<Figure size 432x288 with 1 Axes>"
      ]
     },
     "metadata": {},
     "output_type": "display_data"
    }
   ],
   "source": [
    "# Plot the counts\n",
    "yearly_count.plot()\n",
    "plt.title('Number of Films Released Per Year')\n",
    "plt.xlabel('Year')\n",
    "plt.ylabel('Number of Films');"
   ]
  },
  {
   "cell_type": "markdown",
   "metadata": {},
   "source": [
    "As I suspected, the number of films released per year climbed over the years, so this may have depressed the average revenue across all movies in a given year. I wonder how revenue looks in relation to budget for each year..."
   ]
  },
  {
   "cell_type": "code",
   "execution_count": 25,
   "metadata": {},
   "outputs": [
    {
     "data": {
      "image/png": "[encoded data removed]",
      "text/plain": [
       "<Figure size 432x288 with 1 Axes>"
      ]
     },
     "metadata": {},
     "output_type": "display_data"
    }
   ],
   "source": [
    "# Plot budget and revenue together\n",
    "yearly['budget'].plot()\n",
    "yearly['revenue'].plot()\n",
    "plt.title('Yearly Budget and Revenue')\n",
    "plt.xlabel('Year')\n",
    "plt.ylabel('Budget & Revenue')\n",
    "plt.legend();"
   ]
  },
  {
   "cell_type": "markdown",
   "metadata": {},
   "source": [
    "Observing the graph above it seems that the average budget of films within a given year is fairly flat, however the revenue was much greater between 1960 and 1980."
   ]
  },
  {
   "cell_type": "code",
   "execution_count": 26,
   "metadata": {},
   "outputs": [
    {
     "data": {
      "image/png": "[encoded data removed]",
      "text/plain": [
       "<Figure size 432x288 with 1 Axes>"
      ]
     },
     "metadata": {},
     "output_type": "display_data"
    }
   ],
   "source": [
    "# Plot average yearly budget\n",
    "yearly['budget'].plot()\n",
    "plt.title('Average Film Budget')\n",
    "plt.xlabel('Year')\n",
    "plt.ylabel('Budget');"
   ]
  },
  {
   "cell_type": "markdown",
   "metadata": {},
   "source": [
    "It looks like 1960 to 1970 were pretty big years for movies, having a higher average budget than modern movies. However, the average yearly budget is significantly higher post 2000 than it was between 1970 and 2000."
   ]
  },
  {
   "cell_type": "code",
   "execution_count": 27,
   "metadata": {},
   "outputs": [
    {
     "data": {
      "image/png": "[encoded data removed]",
      "text/plain": [
       "<Figure size 432x288 with 1 Axes>"
      ]
     },
     "metadata": {},
     "output_type": "display_data"
    }
   ],
   "source": [
    "# Plot the maximum yearly film budgets\n",
    "df.groupby('release_year')['budget'].max().plot()\n",
    "plt.title('Yearly Maximum Film Budget')\n",
    "plt.xlabel('Year')\n",
    "plt.ylabel('Budget');"
   ]
  },
  {
   "cell_type": "markdown",
   "metadata": {},
   "source": [
    "Average film budgets were high, then decreased, then increased again after 2000. However, there has been a steady increase of the budget of each year's blockbuster film."
   ]
  },
  {
   "cell_type": "markdown",
   "metadata": {},
   "source": [
    "### Q2: What movie genre has the highest average rating?\n",
    "\n",
    "Because I converted the 'genres' column components to lists within each row, I will split each genre into their own row in order to provide calculations for each genre."
   ]
  },
  {
   "cell_type": "code",
   "execution_count": 28,
   "metadata": {},
   "outputs": [],
   "source": [
    "# Split the elements of the 'genres' column into their own columns\n",
    "split_genres = df.genres.apply(pd.Series).merge(df, left_index=True, right_index=True)"
   ]
  },
  {
   "cell_type": "code",
   "execution_count": 29,
   "metadata": {},
   "outputs": [],
   "source": [
    "# Drop the original, combined 'genres' column\n",
    "split_genres.drop(['genres'], axis=1, inplace=True)"
   ]
  },
  {
   "cell_type": "code",
   "execution_count": 30,
   "metadata": {},
   "outputs": [],
   "source": [
    "# Use the .melt() method to give each genre it's own row\n",
    "split_genres = split_genres.melt(id_vars=['popularity', 'original_title', 'cast', 'director', 'keywords', 'runtime', 'production_companies', 'release_date', 'vote_count', 'vote_average', 'release_year', 'budget', 'revenue', 'net_revenue'], value_name='genre')"
   ]
  },
  {
   "cell_type": "code",
   "execution_count": 31,
   "metadata": {},
   "outputs": [],
   "source": [
    "# Drop the null rows created\n",
    "split_genres.dropna(inplace=True)"
   ]
  },
  {
   "cell_type": "code",
   "execution_count": 32,
   "metadata": {},
   "outputs": [
    {
     "data": {
      "text/plain": [
       "(9855, 15)"
      ]
     },
     "execution_count": 32,
     "metadata": {},
     "output_type": "execute_result"
    }
   ],
   "source": [
    "# Drop the variable column\n",
    "split_genres.drop('variable', axis=1, inplace=True)\n",
    "split_genres.shape"
   ]
  },
  {
   "cell_type": "markdown",
   "metadata": {},
   "source": [
    "Now that every genre has been split out into it's own row, I can perform calculations as usual."
   ]
  },
  {
   "cell_type": "code",
   "execution_count": 33,
   "metadata": {},
   "outputs": [
    {
     "data": {
      "image/png": "[encoded data removed]",
      "text/plain": [
       "<Figure size 432x288 with 1 Axes>"
      ]
     },
     "metadata": {},
     "output_type": "display_data"
    }
   ],
   "source": [
    "split_genres.groupby('genre')['vote_average'].mean().sort_values(ascending=False).plot(kind='bar')\n",
    "plt.title('Highest Average Film Rating by Genre')\n",
    "plt.xlabel('Year')\n",
    "plt.ylabel('Average Rating');"
   ]
  },
  {
   "cell_type": "markdown",
   "metadata": {},
   "source": [
    "That's interesting! The top three movie genres by average rating are Documentaries, War films, and History films."
   ]
  },
  {
   "cell_type": "markdown",
   "metadata": {},
   "source": [
    "### Q3: What directors had the highest average revenue?"
   ]
  },
  {
   "cell_type": "code",
   "execution_count": 34,
   "metadata": {},
   "outputs": [],
   "source": [
    "# Group by 'director' and calculate average net revenue\n",
    "directors = df.groupby('director')['net_revenue'].mean()"
   ]
  },
  {
   "cell_type": "code",
   "execution_count": 35,
   "metadata": {},
   "outputs": [
    {
     "data": {
      "text/plain": [
       "director\n",
       "Irwin Winkler                                        1.551568e+09\n",
       "Clyde Geronimi|Hamilton Luske|Wolfgang Reitherman    1.545635e+09\n",
       "Richard Marquand                                     1.182995e+09\n",
       "Roger Allers|Rob Minkoff                             1.093392e+09\n",
       "Chris Buck|Jennifer Lee                              1.052306e+09\n",
       "Kyle Balda|Pierre Coffin                             9.961120e+08\n",
       "George Lucas                                         9.740265e+08\n",
       "Andrew Stanton|Lee Unkrich                           9.134635e+08\n",
       "Andrew Adamson|Kelly Asbury|Conrad Vernon            8.887368e+08\n",
       "Lee Unkrich                                          8.631719e+08\n",
       "Name: net_revenue, dtype: float64"
      ]
     },
     "execution_count": 35,
     "metadata": {},
     "output_type": "execute_result"
    }
   ],
   "source": [
    "# Sort the dataframe by net revenue in descending order and return the top 10 directors\n",
    "directors.sort_values(ascending=False, inplace=True)\n",
    "directors.head(10)"
   ]
  },
  {
   "cell_type": "markdown",
   "metadata": {},
   "source": [
    "Oops, it looks like there were some rows that had multiple directors...I am going to have to split this and iterate like I did with the 'genres' column."
   ]
  },
  {
   "cell_type": "code",
   "execution_count": 36,
   "metadata": {},
   "outputs": [],
   "source": [
    "# Split the elements of the column into lists by the '|' separator\n",
    "df['director'] = df['director'].str.split('|')"
   ]
  },
  {
   "cell_type": "code",
   "execution_count": 37,
   "metadata": {},
   "outputs": [],
   "source": [
    "# Split each list element into their own column\n",
    "split_directors = df.director.apply(pd.Series).merge(df, left_index=True, right_index=True)"
   ]
  },
  {
   "cell_type": "code",
   "execution_count": 38,
   "metadata": {},
   "outputs": [
    {
     "data": {
      "text/html": [
       "<div>\n",
       "<style scoped>\n",
       "    .dataframe tbody tr th:only-of-type {\n",
       "        vertical-align: middle;\n",
       "    }\n",
       "\n",
       "    .dataframe tbody tr th {\n",
       "        vertical-align: top;\n",
       "    }\n",
       "\n",
       "    .dataframe thead th {\n",
       "        text-align: right;\n",
       "    }\n",
       "</style>\n",
       "<table border=\"1\" class=\"dataframe\">\n",
       "  <thead>\n",
       "    <tr style=\"text-align: right;\">\n",
       "      <th></th>\n",
       "      <th>0</th>\n",
       "      <th>1</th>\n",
       "      <th>2</th>\n",
       "      <th>3</th>\n",
       "      <th>4</th>\n",
       "      <th>5</th>\n",
       "      <th>6</th>\n",
       "      <th>7</th>\n",
       "      <th>8</th>\n",
       "      <th>9</th>\n",
       "      <th>...</th>\n",
       "      <th>runtime</th>\n",
       "      <th>genres</th>\n",
       "      <th>production_companies</th>\n",
       "      <th>release_date</th>\n",
       "      <th>vote_count</th>\n",
       "      <th>vote_average</th>\n",
       "      <th>release_year</th>\n",
       "      <th>budget</th>\n",
       "      <th>revenue</th>\n",
       "      <th>net_revenue</th>\n",
       "    </tr>\n",
       "  </thead>\n",
       "  <tbody>\n",
       "    <tr>\n",
       "      <th>0</th>\n",
       "      <td>Colin Trevorrow</td>\n",
       "      <td>NaN</td>\n",
       "      <td>NaN</td>\n",
       "      <td>NaN</td>\n",
       "      <td>NaN</td>\n",
       "      <td>NaN</td>\n",
       "      <td>NaN</td>\n",
       "      <td>NaN</td>\n",
       "      <td>NaN</td>\n",
       "      <td>NaN</td>\n",
       "      <td>...</td>\n",
       "      <td>124</td>\n",
       "      <td>[Action, Adventure, Science Fiction, Thriller]</td>\n",
       "      <td>[Universal Studios, Amblin Entertainment, Lege...</td>\n",
       "      <td>2015-06-09</td>\n",
       "      <td>5562</td>\n",
       "      <td>6.5</td>\n",
       "      <td>2015</td>\n",
       "      <td>1.379999e+08</td>\n",
       "      <td>1.392446e+09</td>\n",
       "      <td>1.254446e+09</td>\n",
       "    </tr>\n",
       "  </tbody>\n",
       "</table>\n",
       "<p>1 rows × 26 columns</p>\n",
       "</div>"
      ],
      "text/plain": [
       "                 0    1    2    3    4    5    6    7    8    9  ... runtime  \\\n",
       "0  Colin Trevorrow  NaN  NaN  NaN  NaN  NaN  NaN  NaN  NaN  NaN  ...     124   \n",
       "\n",
       "                                           genres  \\\n",
       "0  [Action, Adventure, Science Fiction, Thriller]   \n",
       "\n",
       "                                production_companies release_date vote_count  \\\n",
       "0  [Universal Studios, Amblin Entertainment, Lege...   2015-06-09       5562   \n",
       "\n",
       "  vote_average  release_year        budget       revenue   net_revenue  \n",
       "0          6.5          2015  1.379999e+08  1.392446e+09  1.254446e+09  \n",
       "\n",
       "[1 rows x 26 columns]"
      ]
     },
     "execution_count": 38,
     "metadata": {},
     "output_type": "execute_result"
    }
   ],
   "source": [
    "# Drop the original 'director' column\n",
    "split_directors.drop(['director'], axis=1, inplace=True)\n",
    "split_directors.head(1)"
   ]
  },
  {
   "cell_type": "code",
   "execution_count": 39,
   "metadata": {},
   "outputs": [
    {
     "data": {
      "text/plain": [
       "Index([                     0,                      1,                      2,\n",
       "                            3,                      4,                      5,\n",
       "                            6,                      7,                      8,\n",
       "                            9,                     10,                     11,\n",
       "                 'popularity',       'original_title',                 'cast',\n",
       "                   'keywords',              'runtime',               'genres',\n",
       "       'production_companies',         'release_date',           'vote_count',\n",
       "               'vote_average',         'release_year',               'budget',\n",
       "                    'revenue',          'net_revenue'],\n",
       "      dtype='object')"
      ]
     },
     "execution_count": 39,
     "metadata": {},
     "output_type": "execute_result"
    }
   ],
   "source": [
    "# There were some columns cut off, so I will observe how many columns were created by the split\n",
    "split_directors.columns"
   ]
  },
  {
   "cell_type": "code",
   "execution_count": 40,
   "metadata": {},
   "outputs": [],
   "source": [
    "# Use the .melt() method to unpivot the director columns into individual rows\n",
    "split_directors = split_directors.melt(id_vars=['popularity', 'original_title', 'cast', 'keywords', 'runtime', 'genres', 'production_companies', 'release_date', 'vote_count', 'vote_average', 'release_year', 'budget', 'revenue', 'net_revenue'], value_name='director')"
   ]
  },
  {
   "cell_type": "code",
   "execution_count": 41,
   "metadata": {},
   "outputs": [],
   "source": [
    "# Drop the null rows created\n",
    "split_directors.dropna(inplace=True)"
   ]
  },
  {
   "cell_type": "code",
   "execution_count": 42,
   "metadata": {},
   "outputs": [
    {
     "data": {
      "text/plain": [
       "(3976, 15)"
      ]
     },
     "execution_count": 42,
     "metadata": {},
     "output_type": "execute_result"
    }
   ],
   "source": [
    "# Drop the variable column\n",
    "split_directors.drop('variable', axis=1, inplace=True)\n",
    "split_directors.shape"
   ]
  },
  {
   "cell_type": "code",
   "execution_count": 43,
   "metadata": {},
   "outputs": [
    {
     "data": {
      "text/html": [
       "<div>\n",
       "<style scoped>\n",
       "    .dataframe tbody tr th:only-of-type {\n",
       "        vertical-align: middle;\n",
       "    }\n",
       "\n",
       "    .dataframe tbody tr th {\n",
       "        vertical-align: top;\n",
       "    }\n",
       "\n",
       "    .dataframe thead th {\n",
       "        text-align: right;\n",
       "    }\n",
       "</style>\n",
       "<table border=\"1\" class=\"dataframe\">\n",
       "  <thead>\n",
       "    <tr style=\"text-align: right;\">\n",
       "      <th></th>\n",
       "      <th>popularity</th>\n",
       "      <th>original_title</th>\n",
       "      <th>cast</th>\n",
       "      <th>keywords</th>\n",
       "      <th>runtime</th>\n",
       "      <th>genres</th>\n",
       "      <th>production_companies</th>\n",
       "      <th>release_date</th>\n",
       "      <th>vote_count</th>\n",
       "      <th>vote_average</th>\n",
       "      <th>release_year</th>\n",
       "      <th>budget</th>\n",
       "      <th>revenue</th>\n",
       "      <th>net_revenue</th>\n",
       "      <th>director</th>\n",
       "    </tr>\n",
       "  </thead>\n",
       "  <tbody>\n",
       "    <tr>\n",
       "      <th>0</th>\n",
       "      <td>32.985763</td>\n",
       "      <td>Jurassic World</td>\n",
       "      <td>[Chris Pratt, Bryce Dallas Howard, Irrfan Khan...</td>\n",
       "      <td>[monster, dna, tyrannosaurus rex, velociraptor...</td>\n",
       "      <td>124</td>\n",
       "      <td>[Action, Adventure, Science Fiction, Thriller]</td>\n",
       "      <td>[Universal Studios, Amblin Entertainment, Lege...</td>\n",
       "      <td>2015-06-09</td>\n",
       "      <td>5562</td>\n",
       "      <td>6.5</td>\n",
       "      <td>2015</td>\n",
       "      <td>1.379999e+08</td>\n",
       "      <td>1.392446e+09</td>\n",
       "      <td>1.254446e+09</td>\n",
       "      <td>Colin Trevorrow</td>\n",
       "    </tr>\n",
       "    <tr>\n",
       "      <th>1</th>\n",
       "      <td>28.419936</td>\n",
       "      <td>Mad Max: Fury Road</td>\n",
       "      <td>[Tom Hardy, Charlize Theron, Hugh Keays-Byrne,...</td>\n",
       "      <td>[future, chase, post-apocalyptic, dystopia, au...</td>\n",
       "      <td>120</td>\n",
       "      <td>[Action, Adventure, Science Fiction, Thriller]</td>\n",
       "      <td>[Village Roadshow Pictures, Kennedy Miller Pro...</td>\n",
       "      <td>2015-05-13</td>\n",
       "      <td>6185</td>\n",
       "      <td>7.1</td>\n",
       "      <td>2015</td>\n",
       "      <td>1.379999e+08</td>\n",
       "      <td>3.481613e+08</td>\n",
       "      <td>2.101614e+08</td>\n",
       "      <td>George Miller</td>\n",
       "    </tr>\n",
       "    <tr>\n",
       "      <th>2</th>\n",
       "      <td>13.112507</td>\n",
       "      <td>Insurgent</td>\n",
       "      <td>[Shailene Woodley, Theo James, Kate Winslet, A...</td>\n",
       "      <td>[based on novel, revolution, dystopia, sequel,...</td>\n",
       "      <td>119</td>\n",
       "      <td>[Adventure, Science Fiction, Thriller]</td>\n",
       "      <td>[Summit Entertainment, Mandeville Films, Red W...</td>\n",
       "      <td>2015-03-18</td>\n",
       "      <td>2480</td>\n",
       "      <td>6.3</td>\n",
       "      <td>2015</td>\n",
       "      <td>1.012000e+08</td>\n",
       "      <td>2.716190e+08</td>\n",
       "      <td>1.704191e+08</td>\n",
       "      <td>Robert Schwentke</td>\n",
       "    </tr>\n",
       "    <tr>\n",
       "      <th>3</th>\n",
       "      <td>11.173104</td>\n",
       "      <td>Star Wars: The Force Awakens</td>\n",
       "      <td>[Harrison Ford, Mark Hamill, Carrie Fisher, Ad...</td>\n",
       "      <td>[android, spaceship, jedi, space opera, 3d]</td>\n",
       "      <td>136</td>\n",
       "      <td>[Action, Adventure, Science Fiction, Fantasy]</td>\n",
       "      <td>[Lucasfilm, Truenorth Productions, Bad Robot]</td>\n",
       "      <td>2015-12-15</td>\n",
       "      <td>5292</td>\n",
       "      <td>7.5</td>\n",
       "      <td>2015</td>\n",
       "      <td>1.839999e+08</td>\n",
       "      <td>1.902723e+09</td>\n",
       "      <td>1.718723e+09</td>\n",
       "      <td>J.J. Abrams</td>\n",
       "    </tr>\n",
       "    <tr>\n",
       "      <th>4</th>\n",
       "      <td>9.335014</td>\n",
       "      <td>Furious 7</td>\n",
       "      <td>[Vin Diesel, Paul Walker, Jason Statham, Miche...</td>\n",
       "      <td>[car race, speed, revenge, suspense, car]</td>\n",
       "      <td>137</td>\n",
       "      <td>[Action, Crime, Thriller]</td>\n",
       "      <td>[Universal Pictures, Original Film, Media Righ...</td>\n",
       "      <td>2015-04-01</td>\n",
       "      <td>2947</td>\n",
       "      <td>7.3</td>\n",
       "      <td>2015</td>\n",
       "      <td>1.747999e+08</td>\n",
       "      <td>1.385749e+09</td>\n",
       "      <td>1.210949e+09</td>\n",
       "      <td>James Wan</td>\n",
       "    </tr>\n",
       "  </tbody>\n",
       "</table>\n",
       "</div>"
      ],
      "text/plain": [
       "   popularity                original_title  \\\n",
       "0   32.985763                Jurassic World   \n",
       "1   28.419936            Mad Max: Fury Road   \n",
       "2   13.112507                     Insurgent   \n",
       "3   11.173104  Star Wars: The Force Awakens   \n",
       "4    9.335014                     Furious 7   \n",
       "\n",
       "                                                cast  \\\n",
       "0  [Chris Pratt, Bryce Dallas Howard, Irrfan Khan...   \n",
       "1  [Tom Hardy, Charlize Theron, Hugh Keays-Byrne,...   \n",
       "2  [Shailene Woodley, Theo James, Kate Winslet, A...   \n",
       "3  [Harrison Ford, Mark Hamill, Carrie Fisher, Ad...   \n",
       "4  [Vin Diesel, Paul Walker, Jason Statham, Miche...   \n",
       "\n",
       "                                            keywords  runtime  \\\n",
       "0  [monster, dna, tyrannosaurus rex, velociraptor...      124   \n",
       "1  [future, chase, post-apocalyptic, dystopia, au...      120   \n",
       "2  [based on novel, revolution, dystopia, sequel,...      119   \n",
       "3        [android, spaceship, jedi, space opera, 3d]      136   \n",
       "4          [car race, speed, revenge, suspense, car]      137   \n",
       "\n",
       "                                           genres  \\\n",
       "0  [Action, Adventure, Science Fiction, Thriller]   \n",
       "1  [Action, Adventure, Science Fiction, Thriller]   \n",
       "2          [Adventure, Science Fiction, Thriller]   \n",
       "3   [Action, Adventure, Science Fiction, Fantasy]   \n",
       "4                       [Action, Crime, Thriller]   \n",
       "\n",
       "                                production_companies release_date  vote_count  \\\n",
       "0  [Universal Studios, Amblin Entertainment, Lege...   2015-06-09        5562   \n",
       "1  [Village Roadshow Pictures, Kennedy Miller Pro...   2015-05-13        6185   \n",
       "2  [Summit Entertainment, Mandeville Films, Red W...   2015-03-18        2480   \n",
       "3      [Lucasfilm, Truenorth Productions, Bad Robot]   2015-12-15        5292   \n",
       "4  [Universal Pictures, Original Film, Media Righ...   2015-04-01        2947   \n",
       "\n",
       "   vote_average  release_year        budget       revenue   net_revenue  \\\n",
       "0           6.5          2015  1.379999e+08  1.392446e+09  1.254446e+09   \n",
       "1           7.1          2015  1.379999e+08  3.481613e+08  2.101614e+08   \n",
       "2           6.3          2015  1.012000e+08  2.716190e+08  1.704191e+08   \n",
       "3           7.5          2015  1.839999e+08  1.902723e+09  1.718723e+09   \n",
       "4           7.3          2015  1.747999e+08  1.385749e+09  1.210949e+09   \n",
       "\n",
       "           director  \n",
       "0   Colin Trevorrow  \n",
       "1     George Miller  \n",
       "2  Robert Schwentke  \n",
       "3       J.J. Abrams  \n",
       "4         James Wan  "
      ]
     },
     "execution_count": 43,
     "metadata": {},
     "output_type": "execute_result"
    }
   ],
   "source": [
    "split_directors.head()"
   ]
  },
  {
   "cell_type": "markdown",
   "metadata": {},
   "source": [
    "Now that the individual directors are separated, I can determine which directors had the highest average net revenue"
   ]
  },
  {
   "cell_type": "code",
   "execution_count": 44,
   "metadata": {},
   "outputs": [],
   "source": [
    "group_directors = split_directors.groupby('director')['net_revenue'].mean()"
   ]
  },
  {
   "cell_type": "code",
   "execution_count": 45,
   "metadata": {},
   "outputs": [
    {
     "data": {
      "image/png": "[encoded data removed]",
      "text/plain": [
       "<Figure size 432x288 with 1 Axes>"
      ]
     },
     "metadata": {},
     "output_type": "display_data"
    }
   ],
   "source": [
    "group_directors.sort_values(ascending=False, inplace=True)\n",
    "group_directors.head(10).plot(kind='bar')\n",
    "plt.title('Top Directors by Average Net Revenue')\n",
    "plt.xlabel('Year')\n",
    "plt.ylabel('Net Revenue');"
   ]
  },
  {
   "cell_type": "markdown",
   "metadata": {},
   "source": [
    "A couple of surprises here in this list of highest average revenue by director. I wonder which movies were the most successful for these directors?"
   ]
  },
  {
   "cell_type": "markdown",
   "metadata": {},
   "source": [
    "### Q4: What were the most successful movies, by revenue, popularity and rating?"
   ]
  },
  {
   "cell_type": "code",
   "execution_count": 46,
   "metadata": {},
   "outputs": [],
   "source": [
    "# Create pandas series using movie title and revenue\n",
    "top_rev = df.groupby('original_title')['revenue'].mean()"
   ]
  },
  {
   "cell_type": "code",
   "execution_count": 47,
   "metadata": {},
   "outputs": [
    {
     "data": {
      "text/plain": [
       "original_title\n",
       "Avatar          2.827124e+09\n",
       "Star Wars       2.789712e+09\n",
       "Titanic         2.506406e+09\n",
       "The Exorcist    2.167325e+09\n",
       "Jaws            1.907006e+09\n",
       "Name: revenue, dtype: float64"
      ]
     },
     "execution_count": 47,
     "metadata": {},
     "output_type": "execute_result"
    }
   ],
   "source": [
    "# Sort the series in descending order by revenue\n",
    "top_rev.sort_values(ascending=False, inplace=True)\n",
    "top_rev.head()"
   ]
  },
  {
   "cell_type": "code",
   "execution_count": 48,
   "metadata": {},
   "outputs": [
    {
     "data": {
      "image/png": "[encoded data removed]",
      "text/plain": [
       "<Figure size 432x288 with 1 Axes>"
      ]
     },
     "metadata": {},
     "output_type": "display_data"
    }
   ],
   "source": [
    "# Plot the top 10 movies\n",
    "top_rev[:10].plot(kind='bar')\n",
    "plt.title('Top Films by Revenue')\n",
    "plt.xlabel('Year')\n",
    "plt.ylabel('Revenue');"
   ]
  },
  {
   "cell_type": "code",
   "execution_count": 49,
   "metadata": {},
   "outputs": [],
   "source": [
    "# Create pandas series using movie title and popularity\n",
    "top_pop = df.groupby('original_title')['popularity'].mean()"
   ]
  },
  {
   "cell_type": "code",
   "execution_count": 50,
   "metadata": {},
   "outputs": [
    {
     "data": {
      "text/plain": [
       "original_title\n",
       "Jurassic World             32.985763\n",
       "Mad Max: Fury Road         28.419936\n",
       "Interstellar               24.949134\n",
       "Guardians of the Galaxy    14.311205\n",
       "Insurgent                  13.112507\n",
       "Name: popularity, dtype: float64"
      ]
     },
     "execution_count": 50,
     "metadata": {},
     "output_type": "execute_result"
    }
   ],
   "source": [
    "# Sort the series in descending order by popularity\n",
    "top_pop.sort_values(ascending=False, inplace=True)\n",
    "top_pop.head()"
   ]
  },
  {
   "cell_type": "code",
   "execution_count": 51,
   "metadata": {},
   "outputs": [
    {
     "data": {
      "image/png": "[encoded data removed]",
      "text/plain": [
       "<Figure size 432x288 with 1 Axes>"
      ]
     },
     "metadata": {},
     "output_type": "display_data"
    }
   ],
   "source": [
    "# Plot the top 10 movies\n",
    "top_pop[:10].plot(kind='bar')\n",
    "plt.title('Top 10 Films by Popularity')\n",
    "plt.xlabel('Year')\n",
    "plt.ylabel('Popularity');"
   ]
  },
  {
   "cell_type": "markdown",
   "metadata": {},
   "source": [
    "That's interesting, only 2 of the top 10 movies by popularity also were part of the top 10 movies to generate the highest revenue."
   ]
  },
  {
   "cell_type": "code",
   "execution_count": 52,
   "metadata": {},
   "outputs": [],
   "source": [
    "# Create pandas series using movie title and rating\n",
    "top_rate = df.groupby('original_title')['vote_average'].mean()"
   ]
  },
  {
   "cell_type": "code",
   "execution_count": 53,
   "metadata": {},
   "outputs": [
    {
     "data": {
      "text/plain": [
       "original_title\n",
       "The Shawshank Redemption    8.4\n",
       "Stop Making Sense           8.4\n",
       "The Godfather               8.3\n",
       "Whiplash                    8.2\n",
       "Forrest Gump                8.1\n",
       "Name: vote_average, dtype: float64"
      ]
     },
     "execution_count": 53,
     "metadata": {},
     "output_type": "execute_result"
    }
   ],
   "source": [
    "# Sort the series in descending order by rating\n",
    "top_rate.sort_values(ascending=False, inplace=True)\n",
    "top_rate.head()"
   ]
  },
  {
   "cell_type": "code",
   "execution_count": 54,
   "metadata": {},
   "outputs": [
    {
     "data": {
      "image/png": "[encoded data removed]",
      "text/plain": [
       "<Figure size 432x288 with 1 Axes>"
      ]
     },
     "metadata": {},
     "output_type": "display_data"
    }
   ],
   "source": [
    "# Plot the top 10 movies\n",
    "top_rate[:10].plot(kind='bar')\n",
    "plt.title('Top 10 Films by Average Rating')\n",
    "plt.xlabel('Year')\n",
    "plt.ylabel('Average Rating');"
   ]
  },
  {
   "cell_type": "markdown",
   "metadata": {},
   "source": [
    "That's even more interesting! None of the top 10 movies by average voter rating were in either top 10 list by highest revenue or popularity. This shows me that the big budget, blockbuster films are not necessarily always the most highly revered. "
   ]
  },
  {
   "cell_type": "markdown",
   "metadata": {},
   "source": [
    "<a id='conclusions'></a>\n",
    "## Conclusions\n",
    "1. Movies between 1960 and 1980 had the highest average revenue per film. Average budgets per film were also higher/comparable to those of modern films. As the years passed, the number of movies released per year steadily increased, so it makes sense that high budget films between 1960 and 1980 made higher revenue due to less saturation in the market.<font color=\"33F9FF\"> I would like to explore this further to statistically test this before I can make this conclusion within a certain level of confidence.</font>\n",
    "2. The top three movie genres by average rating were documentaries, war movies, and history movies.<font color=\"33F9FF\"> I wonder if these were prevalent during certain time periods?</font>\n",
    "3. Irwin Winkler has the highest average net revenue of all directors in the dataset.<font color=\"33F9FF\"> I would like to follow up on this analysis by seeing which movies he directed. Did any skew the average, or did he consistently direct high-revenue films?</font>\n",
    "4. The top 10 movies by rating, revenue, and popularity are almost all completely different, aside from 2 of the Star Wars being some of the most popular as well as the highest revenue generating.<font color=\"33F9FF\"> I'm curious as to why this is. I'd like to see movies that were very popular that had low average ratings and how much revenue they generated. Is it the norm for very highly rated movies to not gain much traction (popularity)?</font>\n",
    "\n",
    "### Limitations\n",
    "Cleaning the data eliminated about 70% of the original dataset, therefore there may have been data that could have altered some of the results I observed. In addition, I have not analyzed enough statistically to draw conclusions within an acceptable margin of error.\n"
   ]
  }
 ],
 "metadata": {
  "kernelspec": {
   "display_name": "Python 3",
   "language": "python",
   "name": "python3"
  },
  "language_info": {
   "codemirror_mode": {
    "name": "ipython",
    "version": 3
   },
   "file_extension": ".py",
   "mimetype": "text/x-python",
   "name": "python",
   "nbconvert_exporter": "python",
   "pygments_lexer": "ipython3",
   "version": "3.7.3"
  }
 },
 "nbformat": 4,
 "nbformat_minor": 4
}
